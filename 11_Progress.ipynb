{
  "nbformat": 4,
  "nbformat_minor": 0,
  "metadata": {
    "colab": {
      "provenance": [],
      "authorship_tag": "ABX9TyN8tR9M8yK9cKyflx/f7kUZ",
      "include_colab_link": true
    },
    "kernelspec": {
      "name": "python3",
      "display_name": "Python 3"
    },
    "language_info": {
      "name": "python"
    }
  },
  "cells": [
    {
      "cell_type": "markdown",
      "metadata": {
        "id": "view-in-github",
        "colab_type": "text"
      },
      "source": [
        "<a href=\"https://colab.research.google.com/github/TMhdSofyan/Time-Series-Data-Smoothing/blob/main/11_Progress.ipynb\" target=\"_parent\"><img src=\"https://colab.research.google.com/assets/colab-badge.svg\" alt=\"Open In Colab\"/></a>"
      ]
    },
    {
      "cell_type": "code",
      "execution_count": null,
      "metadata": {
        "id": "LJjml3dzgyNF"
      },
      "outputs": [],
      "source": [
        "! pip install jcopml"
      ]
    },
    {
      "cell_type": "code",
      "source": [
        "\n",
        "import numpy as np\n",
        "import pandas as pd\n",
        "\n",
        "from sklearn.model_selection import train_test_split\n",
        "from sklearn.pipeline import Pipeline\n",
        "from sklearn.compose import ColumnTransformer\n",
        "\n",
        "from jcopml.pipeline import num_pipe, cat_pipe\n",
        "from jcopml.utils import save_model, load_model\n",
        "from jcopml.plot import plot_missing_value\n",
        "from jcopml.feature_importance import mean_score_decrease\n",
        "import matplotlib.pyplot as plt"
      ],
      "metadata": {
        "id": "y01JrjkwlNaR"
      },
      "execution_count": 36,
      "outputs": []
    },
    {
      "cell_type": "code",
      "source": [
        "from google.colab import drive\n",
        "drive.mount('/content/drive/')"
      ],
      "metadata": {
        "colab": {
          "base_uri": "https://localhost:8080/"
        },
        "id": "yhvm5OoPlXQA",
        "outputId": "7decfa3b-810e-40c3-eb86-ca20fffcabf1"
      },
      "execution_count": 2,
      "outputs": [
        {
          "output_type": "stream",
          "name": "stdout",
          "text": [
            "Mounted at /content/drive/\n"
          ]
        }
      ]
    },
    {
      "cell_type": "code",
      "source": [
        "df = pd.read_csv('/content/drive/MyDrive/01_Project_Reservoir_Description/Data/02_Well_F12H_FIX.csv', sep=';',  parse_dates=['DATE'], index_col='DATE')\n",
        "df.head()"
      ],
      "metadata": {
        "colab": {
          "base_uri": "https://localhost:8080/",
          "height": 237
        },
        "id": "QAJQgEB-lY3t",
        "outputId": "b70f9c51-b570-4f35-98bb-bdc4e917b4b6"
      },
      "execution_count": 5,
      "outputs": [
        {
          "output_type": "execute_result",
          "data": {
            "text/plain": [
              "            WELL_BORE_CODE  AVG_DOWNHOLE_PRESSURE  AVG_DOWNHOLE_TEMPERATURE  \\\n",
              "DATE                                                                          \n",
              "2008-02-12  NO 15/9-F-12 H                308.056                   104.418   \n",
              "2008-02-13  NO 15/9-F-12 H                303.034                   105.403   \n",
              "2008-02-14  NO 15/9-F-12 H                295.586                   105.775   \n",
              "2008-02-15  NO 15/9-F-12 H                297.663                   105.752   \n",
              "2008-02-16  NO 15/9-F-12 H                295.936                   105.811   \n",
              "\n",
              "            AVG_DP_TUBING  AVG_ANNULUS_PRESS  AVG_CHOKE_SIZE_P  AVG_WHP_P  \\\n",
              "DATE                                                                        \n",
              "2008-02-12        201.250             18.640          14.48443    106.806   \n",
              "2008-02-13        182.145             16.467          22.83299    120.889   \n",
              "2008-02-14        181.868             12.660          31.24997    113.718   \n",
              "2008-02-15        180.832              5.264          28.51893    116.831   \n",
              "2008-02-16        180.501             12.385          30.22790    115.434   \n",
              "\n",
              "            AVG_WHT_P  DP_CHOKE_SIZE BORE_OIL_VOL BORE_GAS_VOL  \n",
              "DATE                                                            \n",
              "2008-02-12     16.295         92.475          285       38,889  \n",
              "2008-02-13     53.374         89.620        1,870      285,246  \n",
              "2008-02-14     72.738         80.120        3,124      509,955  \n",
              "2008-02-15     69.996         84.251        2,608      383,427  \n",
              "2008-02-16     71.518         82.359        3,052      418,474  "
            ],
            "text/html": [
              "\n",
              "  <div id=\"df-e0616c11-e7af-4356-a001-a69ac0e76b8f\">\n",
              "    <div class=\"colab-df-container\">\n",
              "      <div>\n",
              "<style scoped>\n",
              "    .dataframe tbody tr th:only-of-type {\n",
              "        vertical-align: middle;\n",
              "    }\n",
              "\n",
              "    .dataframe tbody tr th {\n",
              "        vertical-align: top;\n",
              "    }\n",
              "\n",
              "    .dataframe thead th {\n",
              "        text-align: right;\n",
              "    }\n",
              "</style>\n",
              "<table border=\"1\" class=\"dataframe\">\n",
              "  <thead>\n",
              "    <tr style=\"text-align: right;\">\n",
              "      <th></th>\n",
              "      <th>WELL_BORE_CODE</th>\n",
              "      <th>AVG_DOWNHOLE_PRESSURE</th>\n",
              "      <th>AVG_DOWNHOLE_TEMPERATURE</th>\n",
              "      <th>AVG_DP_TUBING</th>\n",
              "      <th>AVG_ANNULUS_PRESS</th>\n",
              "      <th>AVG_CHOKE_SIZE_P</th>\n",
              "      <th>AVG_WHP_P</th>\n",
              "      <th>AVG_WHT_P</th>\n",
              "      <th>DP_CHOKE_SIZE</th>\n",
              "      <th>BORE_OIL_VOL</th>\n",
              "      <th>BORE_GAS_VOL</th>\n",
              "    </tr>\n",
              "    <tr>\n",
              "      <th>DATE</th>\n",
              "      <th></th>\n",
              "      <th></th>\n",
              "      <th></th>\n",
              "      <th></th>\n",
              "      <th></th>\n",
              "      <th></th>\n",
              "      <th></th>\n",
              "      <th></th>\n",
              "      <th></th>\n",
              "      <th></th>\n",
              "      <th></th>\n",
              "    </tr>\n",
              "  </thead>\n",
              "  <tbody>\n",
              "    <tr>\n",
              "      <th>2008-02-12</th>\n",
              "      <td>NO 15/9-F-12 H</td>\n",
              "      <td>308.056</td>\n",
              "      <td>104.418</td>\n",
              "      <td>201.250</td>\n",
              "      <td>18.640</td>\n",
              "      <td>14.48443</td>\n",
              "      <td>106.806</td>\n",
              "      <td>16.295</td>\n",
              "      <td>92.475</td>\n",
              "      <td>285</td>\n",
              "      <td>38,889</td>\n",
              "    </tr>\n",
              "    <tr>\n",
              "      <th>2008-02-13</th>\n",
              "      <td>NO 15/9-F-12 H</td>\n",
              "      <td>303.034</td>\n",
              "      <td>105.403</td>\n",
              "      <td>182.145</td>\n",
              "      <td>16.467</td>\n",
              "      <td>22.83299</td>\n",
              "      <td>120.889</td>\n",
              "      <td>53.374</td>\n",
              "      <td>89.620</td>\n",
              "      <td>1,870</td>\n",
              "      <td>285,246</td>\n",
              "    </tr>\n",
              "    <tr>\n",
              "      <th>2008-02-14</th>\n",
              "      <td>NO 15/9-F-12 H</td>\n",
              "      <td>295.586</td>\n",
              "      <td>105.775</td>\n",
              "      <td>181.868</td>\n",
              "      <td>12.660</td>\n",
              "      <td>31.24997</td>\n",
              "      <td>113.718</td>\n",
              "      <td>72.738</td>\n",
              "      <td>80.120</td>\n",
              "      <td>3,124</td>\n",
              "      <td>509,955</td>\n",
              "    </tr>\n",
              "    <tr>\n",
              "      <th>2008-02-15</th>\n",
              "      <td>NO 15/9-F-12 H</td>\n",
              "      <td>297.663</td>\n",
              "      <td>105.752</td>\n",
              "      <td>180.832</td>\n",
              "      <td>5.264</td>\n",
              "      <td>28.51893</td>\n",
              "      <td>116.831</td>\n",
              "      <td>69.996</td>\n",
              "      <td>84.251</td>\n",
              "      <td>2,608</td>\n",
              "      <td>383,427</td>\n",
              "    </tr>\n",
              "    <tr>\n",
              "      <th>2008-02-16</th>\n",
              "      <td>NO 15/9-F-12 H</td>\n",
              "      <td>295.936</td>\n",
              "      <td>105.811</td>\n",
              "      <td>180.501</td>\n",
              "      <td>12.385</td>\n",
              "      <td>30.22790</td>\n",
              "      <td>115.434</td>\n",
              "      <td>71.518</td>\n",
              "      <td>82.359</td>\n",
              "      <td>3,052</td>\n",
              "      <td>418,474</td>\n",
              "    </tr>\n",
              "  </tbody>\n",
              "</table>\n",
              "</div>\n",
              "      <button class=\"colab-df-convert\" onclick=\"convertToInteractive('df-e0616c11-e7af-4356-a001-a69ac0e76b8f')\"\n",
              "              title=\"Convert this dataframe to an interactive table.\"\n",
              "              style=\"display:none;\">\n",
              "        \n",
              "  <svg xmlns=\"http://www.w3.org/2000/svg\" height=\"24px\"viewBox=\"0 0 24 24\"\n",
              "       width=\"24px\">\n",
              "    <path d=\"M0 0h24v24H0V0z\" fill=\"none\"/>\n",
              "    <path d=\"M18.56 5.44l.94 2.06.94-2.06 2.06-.94-2.06-.94-.94-2.06-.94 2.06-2.06.94zm-11 1L8.5 8.5l.94-2.06 2.06-.94-2.06-.94L8.5 2.5l-.94 2.06-2.06.94zm10 10l.94 2.06.94-2.06 2.06-.94-2.06-.94-.94-2.06-.94 2.06-2.06.94z\"/><path d=\"M17.41 7.96l-1.37-1.37c-.4-.4-.92-.59-1.43-.59-.52 0-1.04.2-1.43.59L10.3 9.45l-7.72 7.72c-.78.78-.78 2.05 0 2.83L4 21.41c.39.39.9.59 1.41.59.51 0 1.02-.2 1.41-.59l7.78-7.78 2.81-2.81c.8-.78.8-2.07 0-2.86zM5.41 20L4 18.59l7.72-7.72 1.47 1.35L5.41 20z\"/>\n",
              "  </svg>\n",
              "      </button>\n",
              "      \n",
              "  <style>\n",
              "    .colab-df-container {\n",
              "      display:flex;\n",
              "      flex-wrap:wrap;\n",
              "      gap: 12px;\n",
              "    }\n",
              "\n",
              "    .colab-df-convert {\n",
              "      background-color: #E8F0FE;\n",
              "      border: none;\n",
              "      border-radius: 50%;\n",
              "      cursor: pointer;\n",
              "      display: none;\n",
              "      fill: #1967D2;\n",
              "      height: 32px;\n",
              "      padding: 0 0 0 0;\n",
              "      width: 32px;\n",
              "    }\n",
              "\n",
              "    .colab-df-convert:hover {\n",
              "      background-color: #E2EBFA;\n",
              "      box-shadow: 0px 1px 2px rgba(60, 64, 67, 0.3), 0px 1px 3px 1px rgba(60, 64, 67, 0.15);\n",
              "      fill: #174EA6;\n",
              "    }\n",
              "\n",
              "    [theme=dark] .colab-df-convert {\n",
              "      background-color: #3B4455;\n",
              "      fill: #D2E3FC;\n",
              "    }\n",
              "\n",
              "    [theme=dark] .colab-df-convert:hover {\n",
              "      background-color: #434B5C;\n",
              "      box-shadow: 0px 1px 3px 1px rgba(0, 0, 0, 0.15);\n",
              "      filter: drop-shadow(0px 1px 2px rgba(0, 0, 0, 0.3));\n",
              "      fill: #FFFFFF;\n",
              "    }\n",
              "  </style>\n",
              "\n",
              "      <script>\n",
              "        const buttonEl =\n",
              "          document.querySelector('#df-e0616c11-e7af-4356-a001-a69ac0e76b8f button.colab-df-convert');\n",
              "        buttonEl.style.display =\n",
              "          google.colab.kernel.accessAllowed ? 'block' : 'none';\n",
              "\n",
              "        async function convertToInteractive(key) {\n",
              "          const element = document.querySelector('#df-e0616c11-e7af-4356-a001-a69ac0e76b8f');\n",
              "          const dataTable =\n",
              "            await google.colab.kernel.invokeFunction('convertToInteractive',\n",
              "                                                     [key], {});\n",
              "          if (!dataTable) return;\n",
              "\n",
              "          const docLinkHtml = 'Like what you see? Visit the ' +\n",
              "            '<a target=\"_blank\" href=https://colab.research.google.com/notebooks/data_table.ipynb>data table notebook</a>'\n",
              "            + ' to learn more about interactive tables.';\n",
              "          element.innerHTML = '';\n",
              "          dataTable['output_type'] = 'display_data';\n",
              "          await google.colab.output.renderOutput(dataTable, element);\n",
              "          const docLink = document.createElement('div');\n",
              "          docLink.innerHTML = docLinkHtml;\n",
              "          element.appendChild(docLink);\n",
              "        }\n",
              "      </script>\n",
              "    </div>\n",
              "  </div>\n",
              "  "
            ]
          },
          "metadata": {},
          "execution_count": 5
        }
      ]
    },
    {
      "cell_type": "code",
      "source": [
        "import pandas as pd\n",
        "\n",
        "# Replace commas with empty strings in the 'BORE_GAS_VOL' column\n",
        "df['BORE_OIL_VOL'] = df['BORE_OIL_VOL'].str.replace(',', '')\n",
        "df['BORE_GAS_VOL'] = df['BORE_GAS_VOL'].str.replace(',', '')\n",
        "\n",
        "# Convert the 'BORE_GAS_VOL' column to a numeric type\n",
        "df['BORE_OIL_VOL'] = pd.to_numeric(df['BORE_OIL_VOL'], errors='coerce')\n",
        "df['BORE_GAS_VOL'] = pd.to_numeric(df['BORE_GAS_VOL'], errors='coerce')"
      ],
      "metadata": {
        "id": "jiUTxytqrCjO"
      },
      "execution_count": 6,
      "outputs": []
    },
    {
      "cell_type": "code",
      "source": [
        "df.drop(columns=['WELL_BORE_CODE', 'AVG_CHOKE_SIZE_P', 'AVG_DOWNHOLE_PRESSURE', 'AVG_DOWNHOLE_TEMPERATURE',\n",
        "                 'DP_CHOKE_SIZE', 'BORE_GAS_VOL'], inplace = True)"
      ],
      "metadata": {
        "id": "hnkrtz2HssnR"
      },
      "execution_count": 7,
      "outputs": []
    },
    {
      "cell_type": "code",
      "source": [
        "import matplotlib.pyplot as plt\n",
        "import seaborn as sns\n",
        "\n",
        "df.hist(bins=30, figsize=(13,10))\n",
        "plt.savefig('/content/drive/MyDrive/01_Project_Reservoir_Description/Data/SMARTWELL_HISTPLOT.png', dpi = 600)"
      ],
      "metadata": {
        "id": "wbhFm0JRstEJ"
      },
      "execution_count": null,
      "outputs": []
    },
    {
      "cell_type": "code",
      "source": [
        "from sklearn.model_selection import RandomizedSearchCV\n",
        "from jcopml.tuning import random_search_params as rsp\n",
        "from sklearn.model_selection import GridSearchCV\n",
        "from jcopml.tuning import grid_search_params as gs\n",
        "from sklearn.metrics import mean_absolute_error, mean_squared_error\n",
        "from sklearn.linear_model import LinearRegression\n",
        "from sklearn.ensemble import RandomForestRegressor\n"
      ],
      "metadata": {
        "id": "AZIhbyYhtkZl"
      },
      "execution_count": 113,
      "outputs": []
    },
    {
      "cell_type": "code",
      "source": [
        "X = df.drop(columns=\"BORE_OIL_VOL\")\n",
        "y = df.BORE_OIL_VOL\n",
        "\n",
        "X_train, X_test, y_train, y_test = train_test_split(X, y, test_size=0.3, random_state=42)\n",
        "X_train.shape, X_test.shape, y_train.shape, y_test.shape"
      ],
      "metadata": {
        "colab": {
          "base_uri": "https://localhost:8080/"
        },
        "id": "2_whenahtksM",
        "outputId": "c894ea1e-e622-4aa7-fa2e-305b21814ad9"
      },
      "execution_count": 139,
      "outputs": [
        {
          "output_type": "execute_result",
          "data": {
            "text/plain": [
              "((2139, 4), (917, 4), (2139,), (917,))"
            ]
          },
          "metadata": {},
          "execution_count": 139
        }
      ]
    },
    {
      "cell_type": "code",
      "source": [
        "X.columns"
      ],
      "metadata": {
        "colab": {
          "base_uri": "https://localhost:8080/"
        },
        "id": "HSd24IODLzjN",
        "outputId": "87acf749-2da5-411e-f8f9-f08751c42d9f"
      },
      "execution_count": null,
      "outputs": [
        {
          "output_type": "execute_result",
          "data": {
            "text/plain": [
              "Index(['AVG_DP_TUBING', 'AVG_ANNULUS_PRESS', 'AVG_WHP_P', 'AVG_WHT_P'], dtype='object')"
            ]
          },
          "metadata": {},
          "execution_count": 190
        }
      ]
    },
    {
      "cell_type": "code",
      "source": [
        "preprocessor = ColumnTransformer([\n",
        "    ('numeric', num_pipe(), X.columns )])\n",
        "\n",
        "from sklearn.svm import SVR\n",
        "pipeline = Pipeline([\n",
        "    ('prep', preprocessor),\n",
        "    ('algo', SVR(max_iter=500))\n",
        "])\n",
        "\n",
        "\n",
        "model_SVM1 = RandomizedSearchCV(pipeline, rsp.svm_params, cv=3, n_iter=50, n_jobs=-1, verbose=1, random_state=42)\n",
        "model_SVM1.fit(X_train, y_train)\n",
        "\n",
        "print(model_SVM1.best_params_)\n",
        "print(model_SVM1.score(X_train, y_train), model_SVM1.best_score_, model_SVM1.score(X_test, y_test))"
      ],
      "metadata": {
        "colab": {
          "base_uri": "https://localhost:8080/"
        },
        "id": "YiYjXo24KncF",
        "outputId": "9cb48914-9d35-4f76-ce0a-0f3c7ec13c6d"
      },
      "execution_count": 143,
      "outputs": [
        {
          "output_type": "stream",
          "name": "stdout",
          "text": [
            "Fitting 3 folds for each of 50 candidates, totalling 150 fits\n",
            "{'algo__C': 42.42502238267331, 'algo__gamma': 0.0027814285643757547}\n",
            "0.888551005929705 0.8647018763392342 0.8912340076781218\n"
          ]
        },
        {
          "output_type": "stream",
          "name": "stderr",
          "text": [
            "/usr/local/lib/python3.10/dist-packages/sklearn/svm/_base.py:299: ConvergenceWarning: Solver terminated early (max_iter=500).  Consider pre-processing your data with StandardScaler or MinMaxScaler.\n",
            "  warnings.warn(\n"
          ]
        }
      ]
    },
    {
      "cell_type": "code",
      "source": [
        "from jcopml.plot import plot_actual_vs_prediction, plot_residual\n",
        "plot_actual_vs_prediction(X_train, y_train, X_test, y_test, model_SVM1)\n",
        "plt.savefig(f'/content/drive/MyDrive/01_Project_Reservoir_Description/Data/SVM_Before_MA.png', dpi=300, bbox_inches='tight')"
      ],
      "metadata": {
        "id": "BD99EnC5Knuu"
      },
      "execution_count": null,
      "outputs": []
    },
    {
      "cell_type": "markdown",
      "source": [
        "#Moving Average#\n"
      ],
      "metadata": {
        "id": "ippMXPuruJU7"
      }
    },
    {
      "cell_type": "markdown",
      "source": [
        "##AVG_WHT_P##"
      ],
      "metadata": {
        "id": "3kQuwYQD10jj"
      }
    },
    {
      "cell_type": "code",
      "source": [
        "windows = [5, 10, 15, 20, 25, 30]\n",
        "\n",
        "for w in windows:\n",
        "    # create a new figure for each window size\n",
        "    plt.figure(figsize=(15, 8))\n",
        "    \n",
        "    # calculate rolling mean\n",
        "    rolling_mean = df.rolling(window=w).mean()\n",
        "    \n",
        "    # plot scatter of original data\n",
        "    plt.scatter(df.index, df['AVG_WHT_P'], label='Original Data', s=10)\n",
        "    \n",
        "    # plot line of rolling mean\n",
        "    plt.plot(rolling_mean.index, rolling_mean['AVG_WHT_P'], label=f'Rolling Mean ({w} days)', linewidth=2.5, color='red')\n",
        "    \n",
        "    # set plot title and labels\n",
        "    plt.xlabel('DATE')\n",
        "    plt.ylabel('AVG_WHT_P')\n",
        "    plt.title(f'Rolling Mean ({w} days)')\n",
        "    plt.legend()\n",
        "    \n",
        "\n",
        "    # save plot to file\n",
        "    plt.savefig(f'/content/drive/MyDrive/01_Project_Reservoir_Description/Data/Rolling Mean ({w} days_WHT).png', dpi=300, bbox_inches='tight')\n",
        "    \n",
        "    # show plot\n",
        "    plt.show()"
      ],
      "metadata": {
        "id": "eWiGMj-otlNE"
      },
      "execution_count": null,
      "outputs": []
    },
    {
      "cell_type": "code",
      "source": [
        "\n",
        "windows = [5, 10, 15, 20, 25, 30]\n",
        "\n",
        "rolling_means = pd.DataFrame()\n",
        "for w in windows:\n",
        "    # calculate rolling mean\n",
        "    rolling_mean = df['AVG_WHT_P'].rolling(window=w).mean()\n",
        "    rolling_means[f'Rolling Mean ({w} days)'] = rolling_mean\n",
        "    \n",
        "# concatenate rolling_means with the original data\n",
        "moving_average1 = pd.concat([df, rolling_means], axis=1)"
      ],
      "metadata": {
        "id": "O9JAkQrquGMT"
      },
      "execution_count": 128,
      "outputs": []
    },
    {
      "cell_type": "code",
      "source": [
        "\n",
        "moving_average1.head()"
      ],
      "metadata": {
        "colab": {
          "base_uri": "https://localhost:8080/",
          "height": 237
        },
        "id": "0PDV39qMuGcr",
        "outputId": "04bb4d0d-095a-4af0-ac28-cc8ec3f281a9"
      },
      "execution_count": 129,
      "outputs": [
        {
          "output_type": "execute_result",
          "data": {
            "text/plain": [
              "            AVG_DP_TUBING  AVG_ANNULUS_PRESS  AVG_WHP_P  AVG_WHT_P  \\\n",
              "DATE                                                                 \n",
              "2008-02-12        201.250             18.640    106.806     16.295   \n",
              "2008-02-13        182.145             16.467    120.889     53.374   \n",
              "2008-02-14        181.868             12.660    113.718     72.738   \n",
              "2008-02-15        180.832              5.264    116.831     69.996   \n",
              "2008-02-16        180.501             12.385    115.434     71.518   \n",
              "\n",
              "            BORE_OIL_VOL  Rolling Mean (5 days)  Rolling Mean (10 days)  \\\n",
              "DATE                                                                      \n",
              "2008-02-12           285                    NaN                     NaN   \n",
              "2008-02-13          1870                    NaN                     NaN   \n",
              "2008-02-14          3124                    NaN                     NaN   \n",
              "2008-02-15          2608                    NaN                     NaN   \n",
              "2008-02-16          3052                56.7842                     NaN   \n",
              "\n",
              "            Rolling Mean (15 days)  Rolling Mean (20 days)  \\\n",
              "DATE                                                         \n",
              "2008-02-12                     NaN                     NaN   \n",
              "2008-02-13                     NaN                     NaN   \n",
              "2008-02-14                     NaN                     NaN   \n",
              "2008-02-15                     NaN                     NaN   \n",
              "2008-02-16                     NaN                     NaN   \n",
              "\n",
              "            Rolling Mean (25 days)  Rolling Mean (30 days)  \n",
              "DATE                                                        \n",
              "2008-02-12                     NaN                     NaN  \n",
              "2008-02-13                     NaN                     NaN  \n",
              "2008-02-14                     NaN                     NaN  \n",
              "2008-02-15                     NaN                     NaN  \n",
              "2008-02-16                     NaN                     NaN  "
            ],
            "text/html": [
              "\n",
              "  <div id=\"df-3fcaa9ad-a98b-4417-8ffc-067d6c972d04\">\n",
              "    <div class=\"colab-df-container\">\n",
              "      <div>\n",
              "<style scoped>\n",
              "    .dataframe tbody tr th:only-of-type {\n",
              "        vertical-align: middle;\n",
              "    }\n",
              "\n",
              "    .dataframe tbody tr th {\n",
              "        vertical-align: top;\n",
              "    }\n",
              "\n",
              "    .dataframe thead th {\n",
              "        text-align: right;\n",
              "    }\n",
              "</style>\n",
              "<table border=\"1\" class=\"dataframe\">\n",
              "  <thead>\n",
              "    <tr style=\"text-align: right;\">\n",
              "      <th></th>\n",
              "      <th>AVG_DP_TUBING</th>\n",
              "      <th>AVG_ANNULUS_PRESS</th>\n",
              "      <th>AVG_WHP_P</th>\n",
              "      <th>AVG_WHT_P</th>\n",
              "      <th>BORE_OIL_VOL</th>\n",
              "      <th>Rolling Mean (5 days)</th>\n",
              "      <th>Rolling Mean (10 days)</th>\n",
              "      <th>Rolling Mean (15 days)</th>\n",
              "      <th>Rolling Mean (20 days)</th>\n",
              "      <th>Rolling Mean (25 days)</th>\n",
              "      <th>Rolling Mean (30 days)</th>\n",
              "    </tr>\n",
              "    <tr>\n",
              "      <th>DATE</th>\n",
              "      <th></th>\n",
              "      <th></th>\n",
              "      <th></th>\n",
              "      <th></th>\n",
              "      <th></th>\n",
              "      <th></th>\n",
              "      <th></th>\n",
              "      <th></th>\n",
              "      <th></th>\n",
              "      <th></th>\n",
              "      <th></th>\n",
              "    </tr>\n",
              "  </thead>\n",
              "  <tbody>\n",
              "    <tr>\n",
              "      <th>2008-02-12</th>\n",
              "      <td>201.250</td>\n",
              "      <td>18.640</td>\n",
              "      <td>106.806</td>\n",
              "      <td>16.295</td>\n",
              "      <td>285</td>\n",
              "      <td>NaN</td>\n",
              "      <td>NaN</td>\n",
              "      <td>NaN</td>\n",
              "      <td>NaN</td>\n",
              "      <td>NaN</td>\n",
              "      <td>NaN</td>\n",
              "    </tr>\n",
              "    <tr>\n",
              "      <th>2008-02-13</th>\n",
              "      <td>182.145</td>\n",
              "      <td>16.467</td>\n",
              "      <td>120.889</td>\n",
              "      <td>53.374</td>\n",
              "      <td>1870</td>\n",
              "      <td>NaN</td>\n",
              "      <td>NaN</td>\n",
              "      <td>NaN</td>\n",
              "      <td>NaN</td>\n",
              "      <td>NaN</td>\n",
              "      <td>NaN</td>\n",
              "    </tr>\n",
              "    <tr>\n",
              "      <th>2008-02-14</th>\n",
              "      <td>181.868</td>\n",
              "      <td>12.660</td>\n",
              "      <td>113.718</td>\n",
              "      <td>72.738</td>\n",
              "      <td>3124</td>\n",
              "      <td>NaN</td>\n",
              "      <td>NaN</td>\n",
              "      <td>NaN</td>\n",
              "      <td>NaN</td>\n",
              "      <td>NaN</td>\n",
              "      <td>NaN</td>\n",
              "    </tr>\n",
              "    <tr>\n",
              "      <th>2008-02-15</th>\n",
              "      <td>180.832</td>\n",
              "      <td>5.264</td>\n",
              "      <td>116.831</td>\n",
              "      <td>69.996</td>\n",
              "      <td>2608</td>\n",
              "      <td>NaN</td>\n",
              "      <td>NaN</td>\n",
              "      <td>NaN</td>\n",
              "      <td>NaN</td>\n",
              "      <td>NaN</td>\n",
              "      <td>NaN</td>\n",
              "    </tr>\n",
              "    <tr>\n",
              "      <th>2008-02-16</th>\n",
              "      <td>180.501</td>\n",
              "      <td>12.385</td>\n",
              "      <td>115.434</td>\n",
              "      <td>71.518</td>\n",
              "      <td>3052</td>\n",
              "      <td>56.7842</td>\n",
              "      <td>NaN</td>\n",
              "      <td>NaN</td>\n",
              "      <td>NaN</td>\n",
              "      <td>NaN</td>\n",
              "      <td>NaN</td>\n",
              "    </tr>\n",
              "  </tbody>\n",
              "</table>\n",
              "</div>\n",
              "      <button class=\"colab-df-convert\" onclick=\"convertToInteractive('df-3fcaa9ad-a98b-4417-8ffc-067d6c972d04')\"\n",
              "              title=\"Convert this dataframe to an interactive table.\"\n",
              "              style=\"display:none;\">\n",
              "        \n",
              "  <svg xmlns=\"http://www.w3.org/2000/svg\" height=\"24px\"viewBox=\"0 0 24 24\"\n",
              "       width=\"24px\">\n",
              "    <path d=\"M0 0h24v24H0V0z\" fill=\"none\"/>\n",
              "    <path d=\"M18.56 5.44l.94 2.06.94-2.06 2.06-.94-2.06-.94-.94-2.06-.94 2.06-2.06.94zm-11 1L8.5 8.5l.94-2.06 2.06-.94-2.06-.94L8.5 2.5l-.94 2.06-2.06.94zm10 10l.94 2.06.94-2.06 2.06-.94-2.06-.94-.94-2.06-.94 2.06-2.06.94z\"/><path d=\"M17.41 7.96l-1.37-1.37c-.4-.4-.92-.59-1.43-.59-.52 0-1.04.2-1.43.59L10.3 9.45l-7.72 7.72c-.78.78-.78 2.05 0 2.83L4 21.41c.39.39.9.59 1.41.59.51 0 1.02-.2 1.41-.59l7.78-7.78 2.81-2.81c.8-.78.8-2.07 0-2.86zM5.41 20L4 18.59l7.72-7.72 1.47 1.35L5.41 20z\"/>\n",
              "  </svg>\n",
              "      </button>\n",
              "      \n",
              "  <style>\n",
              "    .colab-df-container {\n",
              "      display:flex;\n",
              "      flex-wrap:wrap;\n",
              "      gap: 12px;\n",
              "    }\n",
              "\n",
              "    .colab-df-convert {\n",
              "      background-color: #E8F0FE;\n",
              "      border: none;\n",
              "      border-radius: 50%;\n",
              "      cursor: pointer;\n",
              "      display: none;\n",
              "      fill: #1967D2;\n",
              "      height: 32px;\n",
              "      padding: 0 0 0 0;\n",
              "      width: 32px;\n",
              "    }\n",
              "\n",
              "    .colab-df-convert:hover {\n",
              "      background-color: #E2EBFA;\n",
              "      box-shadow: 0px 1px 2px rgba(60, 64, 67, 0.3), 0px 1px 3px 1px rgba(60, 64, 67, 0.15);\n",
              "      fill: #174EA6;\n",
              "    }\n",
              "\n",
              "    [theme=dark] .colab-df-convert {\n",
              "      background-color: #3B4455;\n",
              "      fill: #D2E3FC;\n",
              "    }\n",
              "\n",
              "    [theme=dark] .colab-df-convert:hover {\n",
              "      background-color: #434B5C;\n",
              "      box-shadow: 0px 1px 3px 1px rgba(0, 0, 0, 0.15);\n",
              "      filter: drop-shadow(0px 1px 2px rgba(0, 0, 0, 0.3));\n",
              "      fill: #FFFFFF;\n",
              "    }\n",
              "  </style>\n",
              "\n",
              "      <script>\n",
              "        const buttonEl =\n",
              "          document.querySelector('#df-3fcaa9ad-a98b-4417-8ffc-067d6c972d04 button.colab-df-convert');\n",
              "        buttonEl.style.display =\n",
              "          google.colab.kernel.accessAllowed ? 'block' : 'none';\n",
              "\n",
              "        async function convertToInteractive(key) {\n",
              "          const element = document.querySelector('#df-3fcaa9ad-a98b-4417-8ffc-067d6c972d04');\n",
              "          const dataTable =\n",
              "            await google.colab.kernel.invokeFunction('convertToInteractive',\n",
              "                                                     [key], {});\n",
              "          if (!dataTable) return;\n",
              "\n",
              "          const docLinkHtml = 'Like what you see? Visit the ' +\n",
              "            '<a target=\"_blank\" href=https://colab.research.google.com/notebooks/data_table.ipynb>data table notebook</a>'\n",
              "            + ' to learn more about interactive tables.';\n",
              "          element.innerHTML = '';\n",
              "          dataTable['output_type'] = 'display_data';\n",
              "          await google.colab.output.renderOutput(dataTable, element);\n",
              "          const docLink = document.createElement('div');\n",
              "          docLink.innerHTML = docLinkHtml;\n",
              "          element.appendChild(docLink);\n",
              "        }\n",
              "      </script>\n",
              "    </div>\n",
              "  </div>\n",
              "  "
            ]
          },
          "metadata": {},
          "execution_count": 129
        }
      ]
    },
    {
      "cell_type": "code",
      "source": [
        "moving_average1 = moving_average1.rename(columns={'Rolling Mean (30 days)': 'AVG_WHT_P_MA'})"
      ],
      "metadata": {
        "id": "XKVu1qQKuHH9"
      },
      "execution_count": 130,
      "outputs": []
    },
    {
      "cell_type": "markdown",
      "source": [
        "##AVG_DP_Tubing##"
      ],
      "metadata": {
        "id": "jLIpk39p178c"
      }
    },
    {
      "cell_type": "code",
      "source": [
        "windows = [5, 10, 15, 20, 25, 30]\n",
        "\n",
        "for w in windows:\n",
        "    # create a new figure for each window size\n",
        "    plt.figure(figsize=(15, 8))\n",
        "    \n",
        "    # calculate rolling mean\n",
        "    rolling_mean = df.rolling(window=w).mean()\n",
        "    \n",
        "    # plot scatter of original data\n",
        "    plt.scatter(df.index, df['AVG_DP_TUBING'], label='Original Data', s=10)\n",
        "    \n",
        "    # plot line of rolling mean\n",
        "    plt.plot(rolling_mean.index, rolling_mean['AVG_DP_TUBING'], label=f'Rolling Mean ({w} days)', linewidth=2.5, color='red')\n",
        "    \n",
        "    # set plot title and labels\n",
        "    plt.xlabel('DATE')\n",
        "    plt.ylabel('AVG_DP_TUBING')\n",
        "    plt.title(f'Rolling Mean ({w} days)')\n",
        "    plt.legend()\n",
        "    \n",
        "\n",
        "    # save plot to file\n",
        "    plt.savefig(f'/content/drive/MyDrive/01_Project_Reservoir_Description/Data/Rolling Mean ({w} days_Tubing).png', dpi=300, bbox_inches='tight')\n",
        "    \n",
        "    # show plot\n",
        "    plt.show()"
      ],
      "metadata": {
        "id": "ACKhlmZ3uHdT"
      },
      "execution_count": null,
      "outputs": []
    },
    {
      "cell_type": "code",
      "source": [
        "windows = [5, 10, 15, 20, 25, 30]\n",
        "\n",
        "rolling_means = pd.DataFrame()\n",
        "for w in windows:\n",
        "    # calculate rolling mean\n",
        "    rolling_mean = df['AVG_DP_TUBING'].rolling(window=w).mean()\n",
        "    rolling_means[f'Rolling Mean ({w} days)'] = rolling_mean\n",
        "    \n",
        "# concatenate rolling_means with the original data\n",
        "moving_average2 = pd.concat([df, rolling_means], axis=1)"
      ],
      "metadata": {
        "id": "5IwagA7fuHsL"
      },
      "execution_count": 131,
      "outputs": []
    },
    {
      "cell_type": "code",
      "source": [
        "moving_average2 = moving_average2.rename(columns={'Rolling Mean (30 days)': 'AVG_DP_TUBING_MA'})"
      ],
      "metadata": {
        "id": "ZbWnq7Qz28Fr"
      },
      "execution_count": 132,
      "outputs": []
    },
    {
      "cell_type": "code",
      "source": [
        "moving_average2.head()"
      ],
      "metadata": {
        "colab": {
          "base_uri": "https://localhost:8080/",
          "height": 237
        },
        "id": "qVf0L45CGQlo",
        "outputId": "6261483e-a5fc-49a8-b283-66fcc3b6bafe"
      },
      "execution_count": 133,
      "outputs": [
        {
          "output_type": "execute_result",
          "data": {
            "text/plain": [
              "            AVG_DP_TUBING  AVG_ANNULUS_PRESS  AVG_WHP_P  AVG_WHT_P  \\\n",
              "DATE                                                                 \n",
              "2008-02-12        201.250             18.640    106.806     16.295   \n",
              "2008-02-13        182.145             16.467    120.889     53.374   \n",
              "2008-02-14        181.868             12.660    113.718     72.738   \n",
              "2008-02-15        180.832              5.264    116.831     69.996   \n",
              "2008-02-16        180.501             12.385    115.434     71.518   \n",
              "\n",
              "            BORE_OIL_VOL  Rolling Mean (5 days)  Rolling Mean (10 days)  \\\n",
              "DATE                                                                      \n",
              "2008-02-12           285                    NaN                     NaN   \n",
              "2008-02-13          1870                    NaN                     NaN   \n",
              "2008-02-14          3124                    NaN                     NaN   \n",
              "2008-02-15          2608                    NaN                     NaN   \n",
              "2008-02-16          3052               185.3192                     NaN   \n",
              "\n",
              "            Rolling Mean (15 days)  Rolling Mean (20 days)  \\\n",
              "DATE                                                         \n",
              "2008-02-12                     NaN                     NaN   \n",
              "2008-02-13                     NaN                     NaN   \n",
              "2008-02-14                     NaN                     NaN   \n",
              "2008-02-15                     NaN                     NaN   \n",
              "2008-02-16                     NaN                     NaN   \n",
              "\n",
              "            Rolling Mean (25 days)  AVG_DP_TUBING_MA  \n",
              "DATE                                                  \n",
              "2008-02-12                     NaN               NaN  \n",
              "2008-02-13                     NaN               NaN  \n",
              "2008-02-14                     NaN               NaN  \n",
              "2008-02-15                     NaN               NaN  \n",
              "2008-02-16                     NaN               NaN  "
            ],
            "text/html": [
              "\n",
              "  <div id=\"df-bc183b4f-1a54-4b6b-8650-21bdbc808d2c\">\n",
              "    <div class=\"colab-df-container\">\n",
              "      <div>\n",
              "<style scoped>\n",
              "    .dataframe tbody tr th:only-of-type {\n",
              "        vertical-align: middle;\n",
              "    }\n",
              "\n",
              "    .dataframe tbody tr th {\n",
              "        vertical-align: top;\n",
              "    }\n",
              "\n",
              "    .dataframe thead th {\n",
              "        text-align: right;\n",
              "    }\n",
              "</style>\n",
              "<table border=\"1\" class=\"dataframe\">\n",
              "  <thead>\n",
              "    <tr style=\"text-align: right;\">\n",
              "      <th></th>\n",
              "      <th>AVG_DP_TUBING</th>\n",
              "      <th>AVG_ANNULUS_PRESS</th>\n",
              "      <th>AVG_WHP_P</th>\n",
              "      <th>AVG_WHT_P</th>\n",
              "      <th>BORE_OIL_VOL</th>\n",
              "      <th>Rolling Mean (5 days)</th>\n",
              "      <th>Rolling Mean (10 days)</th>\n",
              "      <th>Rolling Mean (15 days)</th>\n",
              "      <th>Rolling Mean (20 days)</th>\n",
              "      <th>Rolling Mean (25 days)</th>\n",
              "      <th>AVG_DP_TUBING_MA</th>\n",
              "    </tr>\n",
              "    <tr>\n",
              "      <th>DATE</th>\n",
              "      <th></th>\n",
              "      <th></th>\n",
              "      <th></th>\n",
              "      <th></th>\n",
              "      <th></th>\n",
              "      <th></th>\n",
              "      <th></th>\n",
              "      <th></th>\n",
              "      <th></th>\n",
              "      <th></th>\n",
              "      <th></th>\n",
              "    </tr>\n",
              "  </thead>\n",
              "  <tbody>\n",
              "    <tr>\n",
              "      <th>2008-02-12</th>\n",
              "      <td>201.250</td>\n",
              "      <td>18.640</td>\n",
              "      <td>106.806</td>\n",
              "      <td>16.295</td>\n",
              "      <td>285</td>\n",
              "      <td>NaN</td>\n",
              "      <td>NaN</td>\n",
              "      <td>NaN</td>\n",
              "      <td>NaN</td>\n",
              "      <td>NaN</td>\n",
              "      <td>NaN</td>\n",
              "    </tr>\n",
              "    <tr>\n",
              "      <th>2008-02-13</th>\n",
              "      <td>182.145</td>\n",
              "      <td>16.467</td>\n",
              "      <td>120.889</td>\n",
              "      <td>53.374</td>\n",
              "      <td>1870</td>\n",
              "      <td>NaN</td>\n",
              "      <td>NaN</td>\n",
              "      <td>NaN</td>\n",
              "      <td>NaN</td>\n",
              "      <td>NaN</td>\n",
              "      <td>NaN</td>\n",
              "    </tr>\n",
              "    <tr>\n",
              "      <th>2008-02-14</th>\n",
              "      <td>181.868</td>\n",
              "      <td>12.660</td>\n",
              "      <td>113.718</td>\n",
              "      <td>72.738</td>\n",
              "      <td>3124</td>\n",
              "      <td>NaN</td>\n",
              "      <td>NaN</td>\n",
              "      <td>NaN</td>\n",
              "      <td>NaN</td>\n",
              "      <td>NaN</td>\n",
              "      <td>NaN</td>\n",
              "    </tr>\n",
              "    <tr>\n",
              "      <th>2008-02-15</th>\n",
              "      <td>180.832</td>\n",
              "      <td>5.264</td>\n",
              "      <td>116.831</td>\n",
              "      <td>69.996</td>\n",
              "      <td>2608</td>\n",
              "      <td>NaN</td>\n",
              "      <td>NaN</td>\n",
              "      <td>NaN</td>\n",
              "      <td>NaN</td>\n",
              "      <td>NaN</td>\n",
              "      <td>NaN</td>\n",
              "    </tr>\n",
              "    <tr>\n",
              "      <th>2008-02-16</th>\n",
              "      <td>180.501</td>\n",
              "      <td>12.385</td>\n",
              "      <td>115.434</td>\n",
              "      <td>71.518</td>\n",
              "      <td>3052</td>\n",
              "      <td>185.3192</td>\n",
              "      <td>NaN</td>\n",
              "      <td>NaN</td>\n",
              "      <td>NaN</td>\n",
              "      <td>NaN</td>\n",
              "      <td>NaN</td>\n",
              "    </tr>\n",
              "  </tbody>\n",
              "</table>\n",
              "</div>\n",
              "      <button class=\"colab-df-convert\" onclick=\"convertToInteractive('df-bc183b4f-1a54-4b6b-8650-21bdbc808d2c')\"\n",
              "              title=\"Convert this dataframe to an interactive table.\"\n",
              "              style=\"display:none;\">\n",
              "        \n",
              "  <svg xmlns=\"http://www.w3.org/2000/svg\" height=\"24px\"viewBox=\"0 0 24 24\"\n",
              "       width=\"24px\">\n",
              "    <path d=\"M0 0h24v24H0V0z\" fill=\"none\"/>\n",
              "    <path d=\"M18.56 5.44l.94 2.06.94-2.06 2.06-.94-2.06-.94-.94-2.06-.94 2.06-2.06.94zm-11 1L8.5 8.5l.94-2.06 2.06-.94-2.06-.94L8.5 2.5l-.94 2.06-2.06.94zm10 10l.94 2.06.94-2.06 2.06-.94-2.06-.94-.94-2.06-.94 2.06-2.06.94z\"/><path d=\"M17.41 7.96l-1.37-1.37c-.4-.4-.92-.59-1.43-.59-.52 0-1.04.2-1.43.59L10.3 9.45l-7.72 7.72c-.78.78-.78 2.05 0 2.83L4 21.41c.39.39.9.59 1.41.59.51 0 1.02-.2 1.41-.59l7.78-7.78 2.81-2.81c.8-.78.8-2.07 0-2.86zM5.41 20L4 18.59l7.72-7.72 1.47 1.35L5.41 20z\"/>\n",
              "  </svg>\n",
              "      </button>\n",
              "      \n",
              "  <style>\n",
              "    .colab-df-container {\n",
              "      display:flex;\n",
              "      flex-wrap:wrap;\n",
              "      gap: 12px;\n",
              "    }\n",
              "\n",
              "    .colab-df-convert {\n",
              "      background-color: #E8F0FE;\n",
              "      border: none;\n",
              "      border-radius: 50%;\n",
              "      cursor: pointer;\n",
              "      display: none;\n",
              "      fill: #1967D2;\n",
              "      height: 32px;\n",
              "      padding: 0 0 0 0;\n",
              "      width: 32px;\n",
              "    }\n",
              "\n",
              "    .colab-df-convert:hover {\n",
              "      background-color: #E2EBFA;\n",
              "      box-shadow: 0px 1px 2px rgba(60, 64, 67, 0.3), 0px 1px 3px 1px rgba(60, 64, 67, 0.15);\n",
              "      fill: #174EA6;\n",
              "    }\n",
              "\n",
              "    [theme=dark] .colab-df-convert {\n",
              "      background-color: #3B4455;\n",
              "      fill: #D2E3FC;\n",
              "    }\n",
              "\n",
              "    [theme=dark] .colab-df-convert:hover {\n",
              "      background-color: #434B5C;\n",
              "      box-shadow: 0px 1px 3px 1px rgba(0, 0, 0, 0.15);\n",
              "      filter: drop-shadow(0px 1px 2px rgba(0, 0, 0, 0.3));\n",
              "      fill: #FFFFFF;\n",
              "    }\n",
              "  </style>\n",
              "\n",
              "      <script>\n",
              "        const buttonEl =\n",
              "          document.querySelector('#df-bc183b4f-1a54-4b6b-8650-21bdbc808d2c button.colab-df-convert');\n",
              "        buttonEl.style.display =\n",
              "          google.colab.kernel.accessAllowed ? 'block' : 'none';\n",
              "\n",
              "        async function convertToInteractive(key) {\n",
              "          const element = document.querySelector('#df-bc183b4f-1a54-4b6b-8650-21bdbc808d2c');\n",
              "          const dataTable =\n",
              "            await google.colab.kernel.invokeFunction('convertToInteractive',\n",
              "                                                     [key], {});\n",
              "          if (!dataTable) return;\n",
              "\n",
              "          const docLinkHtml = 'Like what you see? Visit the ' +\n",
              "            '<a target=\"_blank\" href=https://colab.research.google.com/notebooks/data_table.ipynb>data table notebook</a>'\n",
              "            + ' to learn more about interactive tables.';\n",
              "          element.innerHTML = '';\n",
              "          dataTable['output_type'] = 'display_data';\n",
              "          await google.colab.output.renderOutput(dataTable, element);\n",
              "          const docLink = document.createElement('div');\n",
              "          docLink.innerHTML = docLinkHtml;\n",
              "          element.appendChild(docLink);\n",
              "        }\n",
              "      </script>\n",
              "    </div>\n",
              "  </div>\n",
              "  "
            ]
          },
          "metadata": {},
          "execution_count": 133
        }
      ]
    },
    {
      "cell_type": "code",
      "source": [],
      "metadata": {
        "id": "DZDRpAL_9X7t"
      },
      "execution_count": null,
      "outputs": []
    },
    {
      "cell_type": "markdown",
      "source": [
        "#Prediksi After Moving Average#"
      ],
      "metadata": {
        "id": "YyQnszjGG8gE"
      }
    },
    {
      "cell_type": "code",
      "source": [
        "new_df = pd.concat([df, moving_average1[['AVG_WHT_P_MA']], moving_average2[['AVG_DP_TUBING_MA']]], axis=1)"
      ],
      "metadata": {
        "id": "aFZEAq0NGRMm"
      },
      "execution_count": 134,
      "outputs": []
    },
    {
      "cell_type": "code",
      "source": [
        "new_df.drop(columns=['AVG_DP_TUBING', 'AVG_WHT_P'], inplace = True)"
      ],
      "metadata": {
        "id": "1WEPf5-428qc"
      },
      "execution_count": 135,
      "outputs": []
    },
    {
      "cell_type": "code",
      "source": [
        "new_df.head()"
      ],
      "metadata": {
        "colab": {
          "base_uri": "https://localhost:8080/",
          "height": 237
        },
        "id": "Y8hRDYj22848",
        "outputId": "2900b6f9-e18f-4ad4-f359-a8d69512caa2"
      },
      "execution_count": 136,
      "outputs": [
        {
          "output_type": "execute_result",
          "data": {
            "text/plain": [
              "            AVG_ANNULUS_PRESS  AVG_WHP_P  BORE_OIL_VOL  AVG_WHT_P_MA  \\\n",
              "DATE                                                                   \n",
              "2008-02-12             18.640    106.806           285           NaN   \n",
              "2008-02-13             16.467    120.889          1870           NaN   \n",
              "2008-02-14             12.660    113.718          3124           NaN   \n",
              "2008-02-15              5.264    116.831          2608           NaN   \n",
              "2008-02-16             12.385    115.434          3052           NaN   \n",
              "\n",
              "            AVG_DP_TUBING_MA  \n",
              "DATE                          \n",
              "2008-02-12               NaN  \n",
              "2008-02-13               NaN  \n",
              "2008-02-14               NaN  \n",
              "2008-02-15               NaN  \n",
              "2008-02-16               NaN  "
            ],
            "text/html": [
              "\n",
              "  <div id=\"df-72e526e0-b814-4c62-9a88-7263ae4829a3\">\n",
              "    <div class=\"colab-df-container\">\n",
              "      <div>\n",
              "<style scoped>\n",
              "    .dataframe tbody tr th:only-of-type {\n",
              "        vertical-align: middle;\n",
              "    }\n",
              "\n",
              "    .dataframe tbody tr th {\n",
              "        vertical-align: top;\n",
              "    }\n",
              "\n",
              "    .dataframe thead th {\n",
              "        text-align: right;\n",
              "    }\n",
              "</style>\n",
              "<table border=\"1\" class=\"dataframe\">\n",
              "  <thead>\n",
              "    <tr style=\"text-align: right;\">\n",
              "      <th></th>\n",
              "      <th>AVG_ANNULUS_PRESS</th>\n",
              "      <th>AVG_WHP_P</th>\n",
              "      <th>BORE_OIL_VOL</th>\n",
              "      <th>AVG_WHT_P_MA</th>\n",
              "      <th>AVG_DP_TUBING_MA</th>\n",
              "    </tr>\n",
              "    <tr>\n",
              "      <th>DATE</th>\n",
              "      <th></th>\n",
              "      <th></th>\n",
              "      <th></th>\n",
              "      <th></th>\n",
              "      <th></th>\n",
              "    </tr>\n",
              "  </thead>\n",
              "  <tbody>\n",
              "    <tr>\n",
              "      <th>2008-02-12</th>\n",
              "      <td>18.640</td>\n",
              "      <td>106.806</td>\n",
              "      <td>285</td>\n",
              "      <td>NaN</td>\n",
              "      <td>NaN</td>\n",
              "    </tr>\n",
              "    <tr>\n",
              "      <th>2008-02-13</th>\n",
              "      <td>16.467</td>\n",
              "      <td>120.889</td>\n",
              "      <td>1870</td>\n",
              "      <td>NaN</td>\n",
              "      <td>NaN</td>\n",
              "    </tr>\n",
              "    <tr>\n",
              "      <th>2008-02-14</th>\n",
              "      <td>12.660</td>\n",
              "      <td>113.718</td>\n",
              "      <td>3124</td>\n",
              "      <td>NaN</td>\n",
              "      <td>NaN</td>\n",
              "    </tr>\n",
              "    <tr>\n",
              "      <th>2008-02-15</th>\n",
              "      <td>5.264</td>\n",
              "      <td>116.831</td>\n",
              "      <td>2608</td>\n",
              "      <td>NaN</td>\n",
              "      <td>NaN</td>\n",
              "    </tr>\n",
              "    <tr>\n",
              "      <th>2008-02-16</th>\n",
              "      <td>12.385</td>\n",
              "      <td>115.434</td>\n",
              "      <td>3052</td>\n",
              "      <td>NaN</td>\n",
              "      <td>NaN</td>\n",
              "    </tr>\n",
              "  </tbody>\n",
              "</table>\n",
              "</div>\n",
              "      <button class=\"colab-df-convert\" onclick=\"convertToInteractive('df-72e526e0-b814-4c62-9a88-7263ae4829a3')\"\n",
              "              title=\"Convert this dataframe to an interactive table.\"\n",
              "              style=\"display:none;\">\n",
              "        \n",
              "  <svg xmlns=\"http://www.w3.org/2000/svg\" height=\"24px\"viewBox=\"0 0 24 24\"\n",
              "       width=\"24px\">\n",
              "    <path d=\"M0 0h24v24H0V0z\" fill=\"none\"/>\n",
              "    <path d=\"M18.56 5.44l.94 2.06.94-2.06 2.06-.94-2.06-.94-.94-2.06-.94 2.06-2.06.94zm-11 1L8.5 8.5l.94-2.06 2.06-.94-2.06-.94L8.5 2.5l-.94 2.06-2.06.94zm10 10l.94 2.06.94-2.06 2.06-.94-2.06-.94-.94-2.06-.94 2.06-2.06.94z\"/><path d=\"M17.41 7.96l-1.37-1.37c-.4-.4-.92-.59-1.43-.59-.52 0-1.04.2-1.43.59L10.3 9.45l-7.72 7.72c-.78.78-.78 2.05 0 2.83L4 21.41c.39.39.9.59 1.41.59.51 0 1.02-.2 1.41-.59l7.78-7.78 2.81-2.81c.8-.78.8-2.07 0-2.86zM5.41 20L4 18.59l7.72-7.72 1.47 1.35L5.41 20z\"/>\n",
              "  </svg>\n",
              "      </button>\n",
              "      \n",
              "  <style>\n",
              "    .colab-df-container {\n",
              "      display:flex;\n",
              "      flex-wrap:wrap;\n",
              "      gap: 12px;\n",
              "    }\n",
              "\n",
              "    .colab-df-convert {\n",
              "      background-color: #E8F0FE;\n",
              "      border: none;\n",
              "      border-radius: 50%;\n",
              "      cursor: pointer;\n",
              "      display: none;\n",
              "      fill: #1967D2;\n",
              "      height: 32px;\n",
              "      padding: 0 0 0 0;\n",
              "      width: 32px;\n",
              "    }\n",
              "\n",
              "    .colab-df-convert:hover {\n",
              "      background-color: #E2EBFA;\n",
              "      box-shadow: 0px 1px 2px rgba(60, 64, 67, 0.3), 0px 1px 3px 1px rgba(60, 64, 67, 0.15);\n",
              "      fill: #174EA6;\n",
              "    }\n",
              "\n",
              "    [theme=dark] .colab-df-convert {\n",
              "      background-color: #3B4455;\n",
              "      fill: #D2E3FC;\n",
              "    }\n",
              "\n",
              "    [theme=dark] .colab-df-convert:hover {\n",
              "      background-color: #434B5C;\n",
              "      box-shadow: 0px 1px 3px 1px rgba(0, 0, 0, 0.15);\n",
              "      filter: drop-shadow(0px 1px 2px rgba(0, 0, 0, 0.3));\n",
              "      fill: #FFFFFF;\n",
              "    }\n",
              "  </style>\n",
              "\n",
              "      <script>\n",
              "        const buttonEl =\n",
              "          document.querySelector('#df-72e526e0-b814-4c62-9a88-7263ae4829a3 button.colab-df-convert');\n",
              "        buttonEl.style.display =\n",
              "          google.colab.kernel.accessAllowed ? 'block' : 'none';\n",
              "\n",
              "        async function convertToInteractive(key) {\n",
              "          const element = document.querySelector('#df-72e526e0-b814-4c62-9a88-7263ae4829a3');\n",
              "          const dataTable =\n",
              "            await google.colab.kernel.invokeFunction('convertToInteractive',\n",
              "                                                     [key], {});\n",
              "          if (!dataTable) return;\n",
              "\n",
              "          const docLinkHtml = 'Like what you see? Visit the ' +\n",
              "            '<a target=\"_blank\" href=https://colab.research.google.com/notebooks/data_table.ipynb>data table notebook</a>'\n",
              "            + ' to learn more about interactive tables.';\n",
              "          element.innerHTML = '';\n",
              "          dataTable['output_type'] = 'display_data';\n",
              "          await google.colab.output.renderOutput(dataTable, element);\n",
              "          const docLink = document.createElement('div');\n",
              "          docLink.innerHTML = docLinkHtml;\n",
              "          element.appendChild(docLink);\n",
              "        }\n",
              "      </script>\n",
              "    </div>\n",
              "  </div>\n",
              "  "
            ]
          },
          "metadata": {},
          "execution_count": 136
        }
      ]
    },
    {
      "cell_type": "code",
      "source": [
        "new_df.info()"
      ],
      "metadata": {
        "colab": {
          "base_uri": "https://localhost:8080/"
        },
        "id": "d4pXfk-ZxVjj",
        "outputId": "453293d7-00c0-4e15-9535-3660ae528a5f"
      },
      "execution_count": 26,
      "outputs": [
        {
          "output_type": "stream",
          "name": "stdout",
          "text": [
            "<class 'pandas.core.frame.DataFrame'>\n",
            "DatetimeIndex: 3056 entries, 2008-02-12 to 2016-09-17\n",
            "Data columns (total 5 columns):\n",
            " #   Column             Non-Null Count  Dtype  \n",
            "---  ------             --------------  -----  \n",
            " 0   AVG_ANNULUS_PRESS  3043 non-null   float64\n",
            " 1   AVG_WHP_P          3056 non-null   float64\n",
            " 2   BORE_OIL_VOL       3056 non-null   int64  \n",
            " 3   AVG_WHT_P_MA       3027 non-null   float64\n",
            " 4   AVG_DP_TUBING_MA   2992 non-null   float64\n",
            "dtypes: float64(4), int64(1)\n",
            "memory usage: 143.2 KB\n"
          ]
        }
      ]
    },
    {
      "cell_type": "code",
      "source": [
        "from jcopml.plot import plot_missing_value"
      ],
      "metadata": {
        "id": "3dBpXrFGxVyv"
      },
      "execution_count": 27,
      "outputs": []
    },
    {
      "cell_type": "code",
      "source": [
        "plot_missing_value(new_df)"
      ],
      "metadata": {
        "id": "vq_tKR5Qx29d"
      },
      "execution_count": null,
      "outputs": []
    },
    {
      "cell_type": "code",
      "source": [
        "X1 = new_df.drop(columns=\"BORE_OIL_VOL\")\n",
        "y1 = new_df.BORE_OIL_VOL\n",
        "\n",
        "X1_train, X1_test, y1_train, y1_test = train_test_split(X1, y1, test_size=0.3, random_state=42)\n",
        "X1_train.shape, X1_test.shape, y1_train.shape, y1_test.shape"
      ],
      "metadata": {
        "colab": {
          "base_uri": "https://localhost:8080/"
        },
        "id": "1Gf3ydV129H9",
        "outputId": "c7fb0a61-6998-4e79-8903-17bebc999a09"
      },
      "execution_count": 137,
      "outputs": [
        {
          "output_type": "execute_result",
          "data": {
            "text/plain": [
              "((2139, 4), (917, 4), (2139,), (917,))"
            ]
          },
          "metadata": {},
          "execution_count": 137
        }
      ]
    },
    {
      "cell_type": "code",
      "source": [
        "X1.columns"
      ],
      "metadata": {
        "colab": {
          "base_uri": "https://localhost:8080/"
        },
        "id": "tZdquP-829cN",
        "outputId": "e3b1146c-bc49-4fea-9809-b695c9d65446"
      },
      "execution_count": null,
      "outputs": [
        {
          "output_type": "execute_result",
          "data": {
            "text/plain": [
              "Index(['AVG_ANNULUS_PRESS', 'AVG_WHP_P', 'AVG_WHT_P_MA', 'AVG_DP_TUBING_MA'], dtype='object')"
            ]
          },
          "metadata": {},
          "execution_count": 196
        }
      ]
    },
    {
      "cell_type": "code",
      "source": [
        "preprocessor = ColumnTransformer([\n",
        "    ('numeric', num_pipe(poly = 1), X1.columns )])\n",
        "\n",
        "from sklearn.svm import SVR\n",
        "pipeline = Pipeline([\n",
        "    ('prep', preprocessor),\n",
        "    ('algo', SVR(max_iter=500))\n",
        "])\n",
        "\n",
        "\n",
        "model_SVM2 = RandomizedSearchCV(pipeline, rsp.svm_params, cv=3, n_iter=50, n_jobs=-1, verbose=1, random_state=42)\n",
        "model_SVM2.fit(X1_train, y1_train)\n",
        "\n",
        "print(model_SVM2.best_params_)\n",
        "print(model_SVM2.score(X1_train, y1_train), model_SVM2.best_score_, model_SVM2.score(X1_test, y1_test))"
      ],
      "metadata": {
        "colab": {
          "base_uri": "https://localhost:8080/"
        },
        "id": "UCDdvA1Y29uN",
        "outputId": "ad659257-3d21-4e8e-b464-1cf3ced9475c"
      },
      "execution_count": 144,
      "outputs": [
        {
          "output_type": "stream",
          "name": "stdout",
          "text": [
            "Fitting 3 folds for each of 50 candidates, totalling 150 fits\n",
            "{'algo__C': 42.42502238267331, 'algo__gamma': 0.0027814285643757547}\n",
            "0.8339312075328367 0.8022994321641989 0.8170463468476032\n"
          ]
        },
        {
          "output_type": "stream",
          "name": "stderr",
          "text": [
            "/usr/local/lib/python3.10/dist-packages/sklearn/svm/_base.py:299: ConvergenceWarning: Solver terminated early (max_iter=500).  Consider pre-processing your data with StandardScaler or MinMaxScaler.\n",
            "  warnings.warn(\n"
          ]
        }
      ]
    },
    {
      "cell_type": "code",
      "source": [
        "from jcopml.plot import plot_actual_vs_prediction, plot_residual\n",
        "plot_actual_vs_prediction(X1_train, y1_train, X1_test, y1_test, model_SVM2)\n",
        "plt.savefig(f'/content/drive/MyDrive/01_Project_Reservoir_Description/Data/SVM_After_MA_NEW.png', dpi=300, bbox_inches='tight')"
      ],
      "metadata": {
        "id": "4YbDbkjDJ1mf"
      },
      "execution_count": null,
      "outputs": []
    },
    {
      "cell_type": "markdown",
      "source": [
        "#Savitzky-Golay For Tubing#"
      ],
      "metadata": {
        "id": "LtEMr1-gqERe"
      }
    },
    {
      "cell_type": "code",
      "source": [
        "from scipy.signal import savgol_filter\n",
        "\n",
        "polynomial_values = [1, 2, 3, 4]\n",
        "window_length = 30\n",
        "\n",
        "for p in polynomial_values:\n",
        "    # create a new figure for each polynomial value\n",
        "    plt.figure(figsize=(15, 8))\n",
        "    \n",
        "    # apply Savitzky-Golay filter\n",
        "    sg = savgol_filter(df['AVG_DP_TUBING'], window_length=window_length, polyorder=p)\n",
        "    \n",
        "    # plot scatter of original data\n",
        "    plt.scatter(df.index, df['AVG_DP_TUBING'], label='Original Data', s=10)\n",
        "    \n",
        "    # plot line of filtered data\n",
        "    plt.plot(df.index, sg, label=f'Savitzky-Golay Filter (polyorder={p}, window_length={window_length})', linewidth=2.5, color='red')\n",
        "    \n",
        "    # set plot title and labels\n",
        "    plt.xlabel('DATE')\n",
        "    plt.ylabel('AVG_DP_TUBING')\n",
        "    plt.title(f'Savitzky-Golay Filter (polyorder={p}, window_length={window_length})')\n",
        "    plt.legend()\n",
        "    \n",
        "    # save plot to file\n",
        "    plt.savefig(f'/content/drive/MyDrive/01_Project_Reservoir_Description/Data/Savitzky-Golay Filter (polyorder={p}, window_length={window_length}).png', dpi=300, bbox_inches='tight')\n",
        "    \n",
        "    # show plot\n",
        "    plt.show()\n"
      ],
      "metadata": {
        "id": "55EwXn6Rp77t"
      },
      "execution_count": null,
      "outputs": []
    },
    {
      "cell_type": "code",
      "source": [
        "from scipy.signal import savgol_filter\n",
        "\n",
        "windows_length = 30\n",
        "polynomial_values = [1, 2, 3, 4]\n",
        "\n",
        "savgol_data = pd.DataFrame()\n",
        "\n",
        "for p in polynomial_values:\n",
        "    # apply Savitzky-Golay filter\n",
        "    savgol_result = savgol_filter(df['AVG_DP_TUBING'], window_length=windows_length, polyorder=p, mode='mirror')\n",
        "    savgol_data[f'Savitzky-Golay ({windows_length} days, {p} polynomial)'] = savgol_result"
      ],
      "metadata": {
        "id": "jNWZC3ckp8FU"
      },
      "execution_count": 74,
      "outputs": []
    },
    {
      "cell_type": "code",
      "source": [
        "savgol_data.info()"
      ],
      "metadata": {
        "colab": {
          "base_uri": "https://localhost:8080/"
        },
        "id": "Eh5Z5VEjqo3R",
        "outputId": "d03fa661-0744-4394-98ed-2d0972e928d3"
      },
      "execution_count": 75,
      "outputs": [
        {
          "output_type": "stream",
          "name": "stdout",
          "text": [
            "<class 'pandas.core.frame.DataFrame'>\n",
            "RangeIndex: 3056 entries, 0 to 3055\n",
            "Data columns (total 4 columns):\n",
            " #   Column                                  Non-Null Count  Dtype  \n",
            "---  ------                                  --------------  -----  \n",
            " 0   Savitzky-Golay (30 days, 1 polynomial)  3021 non-null   float64\n",
            " 1   Savitzky-Golay (30 days, 2 polynomial)  3021 non-null   float64\n",
            " 2   Savitzky-Golay (30 days, 3 polynomial)  3021 non-null   float64\n",
            " 3   Savitzky-Golay (30 days, 4 polynomial)  3021 non-null   float64\n",
            "dtypes: float64(4)\n",
            "memory usage: 95.6 KB\n"
          ]
        }
      ]
    },
    {
      "cell_type": "code",
      "source": [
        "savgol_data.head()"
      ],
      "metadata": {
        "colab": {
          "base_uri": "https://localhost:8080/",
          "height": 206
        },
        "id": "BuuTVSPzqpNN",
        "outputId": "eaf48172-7a49-4a96-d2eb-77e2c9e1046d"
      },
      "execution_count": 66,
      "outputs": [
        {
          "output_type": "execute_result",
          "data": {
            "text/plain": [
              "   Savitzky-Golay (30 days, 1 polynomial)  \\\n",
              "0                              180.746000   \n",
              "1                              180.733233   \n",
              "2                              180.710200   \n",
              "3                              180.667200   \n",
              "4                              180.615800   \n",
              "\n",
              "   Savitzky-Golay (30 days, 2 polynomial)  \\\n",
              "0                              182.631700   \n",
              "1                              182.576189   \n",
              "2                              182.458530   \n",
              "3                              182.299204   \n",
              "4                              182.087172   \n",
              "\n",
              "   Savitzky-Golay (30 days, 3 polynomial)  \\\n",
              "0                              182.631700   \n",
              "1                              182.576189   \n",
              "2                              182.458530   \n",
              "3                              182.299204   \n",
              "4                              182.087172   \n",
              "\n",
              "   Savitzky-Golay (30 days, 4 polynomial)  \n",
              "0                              183.805827  \n",
              "1                              183.646313  \n",
              "2                              183.351860  \n",
              "3                              182.901822  \n",
              "4                              182.321543  "
            ],
            "text/html": [
              "\n",
              "  <div id=\"df-c4bc29c5-45c0-4353-a3b5-cfd32f9f642d\">\n",
              "    <div class=\"colab-df-container\">\n",
              "      <div>\n",
              "<style scoped>\n",
              "    .dataframe tbody tr th:only-of-type {\n",
              "        vertical-align: middle;\n",
              "    }\n",
              "\n",
              "    .dataframe tbody tr th {\n",
              "        vertical-align: top;\n",
              "    }\n",
              "\n",
              "    .dataframe thead th {\n",
              "        text-align: right;\n",
              "    }\n",
              "</style>\n",
              "<table border=\"1\" class=\"dataframe\">\n",
              "  <thead>\n",
              "    <tr style=\"text-align: right;\">\n",
              "      <th></th>\n",
              "      <th>Savitzky-Golay (30 days, 1 polynomial)</th>\n",
              "      <th>Savitzky-Golay (30 days, 2 polynomial)</th>\n",
              "      <th>Savitzky-Golay (30 days, 3 polynomial)</th>\n",
              "      <th>Savitzky-Golay (30 days, 4 polynomial)</th>\n",
              "    </tr>\n",
              "  </thead>\n",
              "  <tbody>\n",
              "    <tr>\n",
              "      <th>0</th>\n",
              "      <td>180.746000</td>\n",
              "      <td>182.631700</td>\n",
              "      <td>182.631700</td>\n",
              "      <td>183.805827</td>\n",
              "    </tr>\n",
              "    <tr>\n",
              "      <th>1</th>\n",
              "      <td>180.733233</td>\n",
              "      <td>182.576189</td>\n",
              "      <td>182.576189</td>\n",
              "      <td>183.646313</td>\n",
              "    </tr>\n",
              "    <tr>\n",
              "      <th>2</th>\n",
              "      <td>180.710200</td>\n",
              "      <td>182.458530</td>\n",
              "      <td>182.458530</td>\n",
              "      <td>183.351860</td>\n",
              "    </tr>\n",
              "    <tr>\n",
              "      <th>3</th>\n",
              "      <td>180.667200</td>\n",
              "      <td>182.299204</td>\n",
              "      <td>182.299204</td>\n",
              "      <td>182.901822</td>\n",
              "    </tr>\n",
              "    <tr>\n",
              "      <th>4</th>\n",
              "      <td>180.615800</td>\n",
              "      <td>182.087172</td>\n",
              "      <td>182.087172</td>\n",
              "      <td>182.321543</td>\n",
              "    </tr>\n",
              "  </tbody>\n",
              "</table>\n",
              "</div>\n",
              "      <button class=\"colab-df-convert\" onclick=\"convertToInteractive('df-c4bc29c5-45c0-4353-a3b5-cfd32f9f642d')\"\n",
              "              title=\"Convert this dataframe to an interactive table.\"\n",
              "              style=\"display:none;\">\n",
              "        \n",
              "  <svg xmlns=\"http://www.w3.org/2000/svg\" height=\"24px\"viewBox=\"0 0 24 24\"\n",
              "       width=\"24px\">\n",
              "    <path d=\"M0 0h24v24H0V0z\" fill=\"none\"/>\n",
              "    <path d=\"M18.56 5.44l.94 2.06.94-2.06 2.06-.94-2.06-.94-.94-2.06-.94 2.06-2.06.94zm-11 1L8.5 8.5l.94-2.06 2.06-.94-2.06-.94L8.5 2.5l-.94 2.06-2.06.94zm10 10l.94 2.06.94-2.06 2.06-.94-2.06-.94-.94-2.06-.94 2.06-2.06.94z\"/><path d=\"M17.41 7.96l-1.37-1.37c-.4-.4-.92-.59-1.43-.59-.52 0-1.04.2-1.43.59L10.3 9.45l-7.72 7.72c-.78.78-.78 2.05 0 2.83L4 21.41c.39.39.9.59 1.41.59.51 0 1.02-.2 1.41-.59l7.78-7.78 2.81-2.81c.8-.78.8-2.07 0-2.86zM5.41 20L4 18.59l7.72-7.72 1.47 1.35L5.41 20z\"/>\n",
              "  </svg>\n",
              "      </button>\n",
              "      \n",
              "  <style>\n",
              "    .colab-df-container {\n",
              "      display:flex;\n",
              "      flex-wrap:wrap;\n",
              "      gap: 12px;\n",
              "    }\n",
              "\n",
              "    .colab-df-convert {\n",
              "      background-color: #E8F0FE;\n",
              "      border: none;\n",
              "      border-radius: 50%;\n",
              "      cursor: pointer;\n",
              "      display: none;\n",
              "      fill: #1967D2;\n",
              "      height: 32px;\n",
              "      padding: 0 0 0 0;\n",
              "      width: 32px;\n",
              "    }\n",
              "\n",
              "    .colab-df-convert:hover {\n",
              "      background-color: #E2EBFA;\n",
              "      box-shadow: 0px 1px 2px rgba(60, 64, 67, 0.3), 0px 1px 3px 1px rgba(60, 64, 67, 0.15);\n",
              "      fill: #174EA6;\n",
              "    }\n",
              "\n",
              "    [theme=dark] .colab-df-convert {\n",
              "      background-color: #3B4455;\n",
              "      fill: #D2E3FC;\n",
              "    }\n",
              "\n",
              "    [theme=dark] .colab-df-convert:hover {\n",
              "      background-color: #434B5C;\n",
              "      box-shadow: 0px 1px 3px 1px rgba(0, 0, 0, 0.15);\n",
              "      filter: drop-shadow(0px 1px 2px rgba(0, 0, 0, 0.3));\n",
              "      fill: #FFFFFF;\n",
              "    }\n",
              "  </style>\n",
              "\n",
              "      <script>\n",
              "        const buttonEl =\n",
              "          document.querySelector('#df-c4bc29c5-45c0-4353-a3b5-cfd32f9f642d button.colab-df-convert');\n",
              "        buttonEl.style.display =\n",
              "          google.colab.kernel.accessAllowed ? 'block' : 'none';\n",
              "\n",
              "        async function convertToInteractive(key) {\n",
              "          const element = document.querySelector('#df-c4bc29c5-45c0-4353-a3b5-cfd32f9f642d');\n",
              "          const dataTable =\n",
              "            await google.colab.kernel.invokeFunction('convertToInteractive',\n",
              "                                                     [key], {});\n",
              "          if (!dataTable) return;\n",
              "\n",
              "          const docLinkHtml = 'Like what you see? Visit the ' +\n",
              "            '<a target=\"_blank\" href=https://colab.research.google.com/notebooks/data_table.ipynb>data table notebook</a>'\n",
              "            + ' to learn more about interactive tables.';\n",
              "          element.innerHTML = '';\n",
              "          dataTable['output_type'] = 'display_data';\n",
              "          await google.colab.output.renderOutput(dataTable, element);\n",
              "          const docLink = document.createElement('div');\n",
              "          docLink.innerHTML = docLinkHtml;\n",
              "          element.appendChild(docLink);\n",
              "        }\n",
              "      </script>\n",
              "    </div>\n",
              "  </div>\n",
              "  "
            ]
          },
          "metadata": {},
          "execution_count": 66
        }
      ]
    },
    {
      "cell_type": "code",
      "source": [
        "savgol_data = savgol_data.fillna(savgol_data.mean())"
      ],
      "metadata": {
        "id": "wM7KKF0jxZxe"
      },
      "execution_count": 76,
      "outputs": []
    },
    {
      "cell_type": "code",
      "source": [
        "savgol_data.info()"
      ],
      "metadata": {
        "colab": {
          "base_uri": "https://localhost:8080/"
        },
        "id": "LBQKMvcBxcie",
        "outputId": "5bb71b16-2af3-4485-a279-9103cdf934a9"
      },
      "execution_count": 79,
      "outputs": [
        {
          "output_type": "stream",
          "name": "stdout",
          "text": [
            "<class 'pandas.core.frame.DataFrame'>\n",
            "DatetimeIndex: 3056 entries, 2008-02-12 to 2016-09-17\n",
            "Data columns (total 4 columns):\n",
            " #   Column                                  Non-Null Count  Dtype  \n",
            "---  ------                                  --------------  -----  \n",
            " 0   Savitzky-Golay (30 days, 1 polynomial)  3056 non-null   float64\n",
            " 1   Savitzky-Golay (30 days, 2 polynomial)  3056 non-null   float64\n",
            " 2   Savitzky-Golay (30 days, 3 polynomial)  3056 non-null   float64\n",
            " 3   Savitzky-Golay (30 days, 4 polynomial)  3056 non-null   float64\n",
            "dtypes: float64(4)\n",
            "memory usage: 119.4 KB\n"
          ]
        }
      ]
    },
    {
      "cell_type": "code",
      "source": [
        "savgol_data = savgol_data.set_index(df.index)"
      ],
      "metadata": {
        "id": "6qorD-Zyqpki"
      },
      "execution_count": 80,
      "outputs": []
    },
    {
      "cell_type": "code",
      "source": [
        "savgol_data.head()"
      ],
      "metadata": {
        "colab": {
          "base_uri": "https://localhost:8080/",
          "height": 237
        },
        "id": "YR4duGZVqp61",
        "outputId": "6dd1c0c0-7f02-4991-8d0a-083bb6f273f5"
      },
      "execution_count": 83,
      "outputs": [
        {
          "output_type": "execute_result",
          "data": {
            "text/plain": [
              "            Savitzky-Golay (30 days, 1 polynomial)  \\\n",
              "DATE                                                 \n",
              "2008-02-12                              180.746000   \n",
              "2008-02-13                              180.733233   \n",
              "2008-02-14                              180.710200   \n",
              "2008-02-15                              180.667200   \n",
              "2008-02-16                              180.615800   \n",
              "\n",
              "            Savitzky-Golay (30 days, 2 polynomial)  \\\n",
              "DATE                                                 \n",
              "2008-02-12                              182.631700   \n",
              "2008-02-13                              182.576189   \n",
              "2008-02-14                              182.458530   \n",
              "2008-02-15                              182.299204   \n",
              "2008-02-16                              182.087172   \n",
              "\n",
              "            Savitzky-Golay (30 days, 3 polynomial)  \\\n",
              "DATE                                                 \n",
              "2008-02-12                              182.631700   \n",
              "2008-02-13                              182.576189   \n",
              "2008-02-14                              182.458530   \n",
              "2008-02-15                              182.299204   \n",
              "2008-02-16                              182.087172   \n",
              "\n",
              "            Savitzky-Golay (30 days, 4 polynomial)  \n",
              "DATE                                                \n",
              "2008-02-12                              183.805827  \n",
              "2008-02-13                              183.646313  \n",
              "2008-02-14                              183.351860  \n",
              "2008-02-15                              182.901822  \n",
              "2008-02-16                              182.321543  "
            ],
            "text/html": [
              "\n",
              "  <div id=\"df-21a47980-b291-4323-bbe8-f3750e2674bc\">\n",
              "    <div class=\"colab-df-container\">\n",
              "      <div>\n",
              "<style scoped>\n",
              "    .dataframe tbody tr th:only-of-type {\n",
              "        vertical-align: middle;\n",
              "    }\n",
              "\n",
              "    .dataframe tbody tr th {\n",
              "        vertical-align: top;\n",
              "    }\n",
              "\n",
              "    .dataframe thead th {\n",
              "        text-align: right;\n",
              "    }\n",
              "</style>\n",
              "<table border=\"1\" class=\"dataframe\">\n",
              "  <thead>\n",
              "    <tr style=\"text-align: right;\">\n",
              "      <th></th>\n",
              "      <th>Savitzky-Golay (30 days, 1 polynomial)</th>\n",
              "      <th>Savitzky-Golay (30 days, 2 polynomial)</th>\n",
              "      <th>Savitzky-Golay (30 days, 3 polynomial)</th>\n",
              "      <th>Savitzky-Golay (30 days, 4 polynomial)</th>\n",
              "    </tr>\n",
              "    <tr>\n",
              "      <th>DATE</th>\n",
              "      <th></th>\n",
              "      <th></th>\n",
              "      <th></th>\n",
              "      <th></th>\n",
              "    </tr>\n",
              "  </thead>\n",
              "  <tbody>\n",
              "    <tr>\n",
              "      <th>2008-02-12</th>\n",
              "      <td>180.746000</td>\n",
              "      <td>182.631700</td>\n",
              "      <td>182.631700</td>\n",
              "      <td>183.805827</td>\n",
              "    </tr>\n",
              "    <tr>\n",
              "      <th>2008-02-13</th>\n",
              "      <td>180.733233</td>\n",
              "      <td>182.576189</td>\n",
              "      <td>182.576189</td>\n",
              "      <td>183.646313</td>\n",
              "    </tr>\n",
              "    <tr>\n",
              "      <th>2008-02-14</th>\n",
              "      <td>180.710200</td>\n",
              "      <td>182.458530</td>\n",
              "      <td>182.458530</td>\n",
              "      <td>183.351860</td>\n",
              "    </tr>\n",
              "    <tr>\n",
              "      <th>2008-02-15</th>\n",
              "      <td>180.667200</td>\n",
              "      <td>182.299204</td>\n",
              "      <td>182.299204</td>\n",
              "      <td>182.901822</td>\n",
              "    </tr>\n",
              "    <tr>\n",
              "      <th>2008-02-16</th>\n",
              "      <td>180.615800</td>\n",
              "      <td>182.087172</td>\n",
              "      <td>182.087172</td>\n",
              "      <td>182.321543</td>\n",
              "    </tr>\n",
              "  </tbody>\n",
              "</table>\n",
              "</div>\n",
              "      <button class=\"colab-df-convert\" onclick=\"convertToInteractive('df-21a47980-b291-4323-bbe8-f3750e2674bc')\"\n",
              "              title=\"Convert this dataframe to an interactive table.\"\n",
              "              style=\"display:none;\">\n",
              "        \n",
              "  <svg xmlns=\"http://www.w3.org/2000/svg\" height=\"24px\"viewBox=\"0 0 24 24\"\n",
              "       width=\"24px\">\n",
              "    <path d=\"M0 0h24v24H0V0z\" fill=\"none\"/>\n",
              "    <path d=\"M18.56 5.44l.94 2.06.94-2.06 2.06-.94-2.06-.94-.94-2.06-.94 2.06-2.06.94zm-11 1L8.5 8.5l.94-2.06 2.06-.94-2.06-.94L8.5 2.5l-.94 2.06-2.06.94zm10 10l.94 2.06.94-2.06 2.06-.94-2.06-.94-.94-2.06-.94 2.06-2.06.94z\"/><path d=\"M17.41 7.96l-1.37-1.37c-.4-.4-.92-.59-1.43-.59-.52 0-1.04.2-1.43.59L10.3 9.45l-7.72 7.72c-.78.78-.78 2.05 0 2.83L4 21.41c.39.39.9.59 1.41.59.51 0 1.02-.2 1.41-.59l7.78-7.78 2.81-2.81c.8-.78.8-2.07 0-2.86zM5.41 20L4 18.59l7.72-7.72 1.47 1.35L5.41 20z\"/>\n",
              "  </svg>\n",
              "      </button>\n",
              "      \n",
              "  <style>\n",
              "    .colab-df-container {\n",
              "      display:flex;\n",
              "      flex-wrap:wrap;\n",
              "      gap: 12px;\n",
              "    }\n",
              "\n",
              "    .colab-df-convert {\n",
              "      background-color: #E8F0FE;\n",
              "      border: none;\n",
              "      border-radius: 50%;\n",
              "      cursor: pointer;\n",
              "      display: none;\n",
              "      fill: #1967D2;\n",
              "      height: 32px;\n",
              "      padding: 0 0 0 0;\n",
              "      width: 32px;\n",
              "    }\n",
              "\n",
              "    .colab-df-convert:hover {\n",
              "      background-color: #E2EBFA;\n",
              "      box-shadow: 0px 1px 2px rgba(60, 64, 67, 0.3), 0px 1px 3px 1px rgba(60, 64, 67, 0.15);\n",
              "      fill: #174EA6;\n",
              "    }\n",
              "\n",
              "    [theme=dark] .colab-df-convert {\n",
              "      background-color: #3B4455;\n",
              "      fill: #D2E3FC;\n",
              "    }\n",
              "\n",
              "    [theme=dark] .colab-df-convert:hover {\n",
              "      background-color: #434B5C;\n",
              "      box-shadow: 0px 1px 3px 1px rgba(0, 0, 0, 0.15);\n",
              "      filter: drop-shadow(0px 1px 2px rgba(0, 0, 0, 0.3));\n",
              "      fill: #FFFFFF;\n",
              "    }\n",
              "  </style>\n",
              "\n",
              "      <script>\n",
              "        const buttonEl =\n",
              "          document.querySelector('#df-21a47980-b291-4323-bbe8-f3750e2674bc button.colab-df-convert');\n",
              "        buttonEl.style.display =\n",
              "          google.colab.kernel.accessAllowed ? 'block' : 'none';\n",
              "\n",
              "        async function convertToInteractive(key) {\n",
              "          const element = document.querySelector('#df-21a47980-b291-4323-bbe8-f3750e2674bc');\n",
              "          const dataTable =\n",
              "            await google.colab.kernel.invokeFunction('convertToInteractive',\n",
              "                                                     [key], {});\n",
              "          if (!dataTable) return;\n",
              "\n",
              "          const docLinkHtml = 'Like what you see? Visit the ' +\n",
              "            '<a target=\"_blank\" href=https://colab.research.google.com/notebooks/data_table.ipynb>data table notebook</a>'\n",
              "            + ' to learn more about interactive tables.';\n",
              "          element.innerHTML = '';\n",
              "          dataTable['output_type'] = 'display_data';\n",
              "          await google.colab.output.renderOutput(dataTable, element);\n",
              "          const docLink = document.createElement('div');\n",
              "          docLink.innerHTML = docLinkHtml;\n",
              "          element.appendChild(docLink);\n",
              "        }\n",
              "      </script>\n",
              "    </div>\n",
              "  </div>\n",
              "  "
            ]
          },
          "metadata": {},
          "execution_count": 83
        }
      ]
    },
    {
      "cell_type": "code",
      "source": [
        "savgol_data = savgol_data.rename(columns={'Savitzky-Golay (30 days, 1 polynomial)': 'AVG_DP_TUBING_SG'})"
      ],
      "metadata": {
        "id": "haNFO-lysaxK"
      },
      "execution_count": 84,
      "outputs": []
    },
    {
      "cell_type": "markdown",
      "source": [
        "#Savitzky-Golay for WHT P"
      ],
      "metadata": {
        "id": "RZocz-cwrMaZ"
      }
    },
    {
      "cell_type": "code",
      "source": [
        "from scipy.signal import savgol_filter\n",
        "\n",
        "polynomial_values = [1, 2, 3, 4]\n",
        "window_length = 30\n",
        "\n",
        "for p in polynomial_values:\n",
        "    # create a new figure for each polynomial value\n",
        "    plt.figure(figsize=(15, 8))\n",
        "    \n",
        "    # apply Savitzky-Golay filter\n",
        "    sg = savgol_filter(df['AVG_WHT_P'], window_length=window_length, polyorder=p)\n",
        "    \n",
        "    # plot scatter of original data\n",
        "    plt.scatter(df.index, df['AVG_WHT_P'], label='Original Data', s=10)\n",
        "    \n",
        "    # plot line of filtered data\n",
        "    plt.plot(df.index, sg, label=f'Savitzky-Golay Filter (polyorder={p}, window_length={window_length})', linewidth=2.5, color='red')\n",
        "    \n",
        "    # set plot title and labels\n",
        "    plt.xlabel('DATE')\n",
        "    plt.ylabel('AVG_WHT_P')\n",
        "    plt.title(f'Savitzky-Golay Filter (polyorder={p}, window_length={window_length})')\n",
        "    plt.legend()\n",
        "    \n",
        "    # save plot to file\n",
        "    plt.savefig(f'/content/drive/MyDrive/01_Project_Reservoir_Description/Data/Savitzky-Golay Filter (polyorder={p}, window_length={window_length})AVG_WHT_P.png', dpi=300, bbox_inches='tight')\n",
        "    \n",
        "    # show plot\n",
        "    plt.show()"
      ],
      "metadata": {
        "id": "2NUX15wGp8LL"
      },
      "execution_count": null,
      "outputs": []
    },
    {
      "cell_type": "code",
      "source": [
        "from scipy.signal import savgol_filter\n",
        "\n",
        "windows_length = 30\n",
        "polynomial_values = [1, 2, 3, 4]\n",
        "\n",
        "savgol_data1 = pd.DataFrame()\n",
        "\n",
        "for p in polynomial_values:\n",
        "    # apply Savitzky-Golay filter\n",
        "    savgol_result = savgol_filter(df['AVG_WHT_P'], window_length=windows_length, polyorder=p)\n",
        "    savgol_data1[f'Savitzky-Golay ({windows_length} days, {p} polynomial)'] = savgol_result"
      ],
      "metadata": {
        "id": "7U3N8CmSp8QT"
      },
      "execution_count": 96,
      "outputs": []
    },
    {
      "cell_type": "code",
      "source": [
        "savgol_data1.head()"
      ],
      "metadata": {
        "colab": {
          "base_uri": "https://localhost:8080/",
          "height": 206
        },
        "id": "FThxbu3R59NR",
        "outputId": "ce0bccbe-226a-433a-a435-66e889575c05"
      },
      "execution_count": 97,
      "outputs": [
        {
          "output_type": "execute_result",
          "data": {
            "text/plain": [
              "   Savitzky-Golay (30 days, 1 polynomial)  \\\n",
              "0                               63.030839   \n",
              "1                               63.545588   \n",
              "2                               64.060337   \n",
              "3                               64.575086   \n",
              "4                               65.089835   \n",
              "\n",
              "   Savitzky-Golay (30 days, 2 polynomial)  \\\n",
              "0                               52.785288   \n",
              "1                               55.419806   \n",
              "2                               57.902912   \n",
              "3                               60.234606   \n",
              "4                               62.414888   \n",
              "\n",
              "   Savitzky-Golay (30 days, 3 polynomial)  \\\n",
              "0                               42.454242   \n",
              "1                               49.363676   \n",
              "2                               55.358320   \n",
              "3                               60.494720   \n",
              "4                               64.829424   \n",
              "\n",
              "   Savitzky-Golay (30 days, 4 polynomial)  \n",
              "0                               33.469234  \n",
              "1                               46.575225  \n",
              "2                               56.774676  \n",
              "3                               64.468385  \n",
              "4                               70.030673  "
            ],
            "text/html": [
              "\n",
              "  <div id=\"df-6ca079ea-b8c9-48b4-9b29-f4c1b57715ae\">\n",
              "    <div class=\"colab-df-container\">\n",
              "      <div>\n",
              "<style scoped>\n",
              "    .dataframe tbody tr th:only-of-type {\n",
              "        vertical-align: middle;\n",
              "    }\n",
              "\n",
              "    .dataframe tbody tr th {\n",
              "        vertical-align: top;\n",
              "    }\n",
              "\n",
              "    .dataframe thead th {\n",
              "        text-align: right;\n",
              "    }\n",
              "</style>\n",
              "<table border=\"1\" class=\"dataframe\">\n",
              "  <thead>\n",
              "    <tr style=\"text-align: right;\">\n",
              "      <th></th>\n",
              "      <th>Savitzky-Golay (30 days, 1 polynomial)</th>\n",
              "      <th>Savitzky-Golay (30 days, 2 polynomial)</th>\n",
              "      <th>Savitzky-Golay (30 days, 3 polynomial)</th>\n",
              "      <th>Savitzky-Golay (30 days, 4 polynomial)</th>\n",
              "    </tr>\n",
              "  </thead>\n",
              "  <tbody>\n",
              "    <tr>\n",
              "      <th>0</th>\n",
              "      <td>63.030839</td>\n",
              "      <td>52.785288</td>\n",
              "      <td>42.454242</td>\n",
              "      <td>33.469234</td>\n",
              "    </tr>\n",
              "    <tr>\n",
              "      <th>1</th>\n",
              "      <td>63.545588</td>\n",
              "      <td>55.419806</td>\n",
              "      <td>49.363676</td>\n",
              "      <td>46.575225</td>\n",
              "    </tr>\n",
              "    <tr>\n",
              "      <th>2</th>\n",
              "      <td>64.060337</td>\n",
              "      <td>57.902912</td>\n",
              "      <td>55.358320</td>\n",
              "      <td>56.774676</td>\n",
              "    </tr>\n",
              "    <tr>\n",
              "      <th>3</th>\n",
              "      <td>64.575086</td>\n",
              "      <td>60.234606</td>\n",
              "      <td>60.494720</td>\n",
              "      <td>64.468385</td>\n",
              "    </tr>\n",
              "    <tr>\n",
              "      <th>4</th>\n",
              "      <td>65.089835</td>\n",
              "      <td>62.414888</td>\n",
              "      <td>64.829424</td>\n",
              "      <td>70.030673</td>\n",
              "    </tr>\n",
              "  </tbody>\n",
              "</table>\n",
              "</div>\n",
              "      <button class=\"colab-df-convert\" onclick=\"convertToInteractive('df-6ca079ea-b8c9-48b4-9b29-f4c1b57715ae')\"\n",
              "              title=\"Convert this dataframe to an interactive table.\"\n",
              "              style=\"display:none;\">\n",
              "        \n",
              "  <svg xmlns=\"http://www.w3.org/2000/svg\" height=\"24px\"viewBox=\"0 0 24 24\"\n",
              "       width=\"24px\">\n",
              "    <path d=\"M0 0h24v24H0V0z\" fill=\"none\"/>\n",
              "    <path d=\"M18.56 5.44l.94 2.06.94-2.06 2.06-.94-2.06-.94-.94-2.06-.94 2.06-2.06.94zm-11 1L8.5 8.5l.94-2.06 2.06-.94-2.06-.94L8.5 2.5l-.94 2.06-2.06.94zm10 10l.94 2.06.94-2.06 2.06-.94-2.06-.94-.94-2.06-.94 2.06-2.06.94z\"/><path d=\"M17.41 7.96l-1.37-1.37c-.4-.4-.92-.59-1.43-.59-.52 0-1.04.2-1.43.59L10.3 9.45l-7.72 7.72c-.78.78-.78 2.05 0 2.83L4 21.41c.39.39.9.59 1.41.59.51 0 1.02-.2 1.41-.59l7.78-7.78 2.81-2.81c.8-.78.8-2.07 0-2.86zM5.41 20L4 18.59l7.72-7.72 1.47 1.35L5.41 20z\"/>\n",
              "  </svg>\n",
              "      </button>\n",
              "      \n",
              "  <style>\n",
              "    .colab-df-container {\n",
              "      display:flex;\n",
              "      flex-wrap:wrap;\n",
              "      gap: 12px;\n",
              "    }\n",
              "\n",
              "    .colab-df-convert {\n",
              "      background-color: #E8F0FE;\n",
              "      border: none;\n",
              "      border-radius: 50%;\n",
              "      cursor: pointer;\n",
              "      display: none;\n",
              "      fill: #1967D2;\n",
              "      height: 32px;\n",
              "      padding: 0 0 0 0;\n",
              "      width: 32px;\n",
              "    }\n",
              "\n",
              "    .colab-df-convert:hover {\n",
              "      background-color: #E2EBFA;\n",
              "      box-shadow: 0px 1px 2px rgba(60, 64, 67, 0.3), 0px 1px 3px 1px rgba(60, 64, 67, 0.15);\n",
              "      fill: #174EA6;\n",
              "    }\n",
              "\n",
              "    [theme=dark] .colab-df-convert {\n",
              "      background-color: #3B4455;\n",
              "      fill: #D2E3FC;\n",
              "    }\n",
              "\n",
              "    [theme=dark] .colab-df-convert:hover {\n",
              "      background-color: #434B5C;\n",
              "      box-shadow: 0px 1px 3px 1px rgba(0, 0, 0, 0.15);\n",
              "      filter: drop-shadow(0px 1px 2px rgba(0, 0, 0, 0.3));\n",
              "      fill: #FFFFFF;\n",
              "    }\n",
              "  </style>\n",
              "\n",
              "      <script>\n",
              "        const buttonEl =\n",
              "          document.querySelector('#df-6ca079ea-b8c9-48b4-9b29-f4c1b57715ae button.colab-df-convert');\n",
              "        buttonEl.style.display =\n",
              "          google.colab.kernel.accessAllowed ? 'block' : 'none';\n",
              "\n",
              "        async function convertToInteractive(key) {\n",
              "          const element = document.querySelector('#df-6ca079ea-b8c9-48b4-9b29-f4c1b57715ae');\n",
              "          const dataTable =\n",
              "            await google.colab.kernel.invokeFunction('convertToInteractive',\n",
              "                                                     [key], {});\n",
              "          if (!dataTable) return;\n",
              "\n",
              "          const docLinkHtml = 'Like what you see? Visit the ' +\n",
              "            '<a target=\"_blank\" href=https://colab.research.google.com/notebooks/data_table.ipynb>data table notebook</a>'\n",
              "            + ' to learn more about interactive tables.';\n",
              "          element.innerHTML = '';\n",
              "          dataTable['output_type'] = 'display_data';\n",
              "          await google.colab.output.renderOutput(dataTable, element);\n",
              "          const docLink = document.createElement('div');\n",
              "          docLink.innerHTML = docLinkHtml;\n",
              "          element.appendChild(docLink);\n",
              "        }\n",
              "      </script>\n",
              "    </div>\n",
              "  </div>\n",
              "  "
            ]
          },
          "metadata": {},
          "execution_count": 97
        }
      ]
    },
    {
      "cell_type": "code",
      "source": [
        "savgol_data1 = savgol_data1.fillna(savgol_data.mean())"
      ],
      "metadata": {
        "id": "_6C2vjBi330z"
      },
      "execution_count": 98,
      "outputs": []
    },
    {
      "cell_type": "code",
      "source": [
        "savgol_data1 = savgol_data1.set_index(df.index)\n",
        "savgol_data1.head()"
      ],
      "metadata": {
        "colab": {
          "base_uri": "https://localhost:8080/",
          "height": 237
        },
        "id": "5xJFxS574VTA",
        "outputId": "7dae85a2-d28b-43b8-b083-d78877d1a53d"
      },
      "execution_count": 100,
      "outputs": [
        {
          "output_type": "execute_result",
          "data": {
            "text/plain": [
              "            Savitzky-Golay (30 days, 1 polynomial)  \\\n",
              "DATE                                                 \n",
              "2008-02-12                               63.030839   \n",
              "2008-02-13                               63.545588   \n",
              "2008-02-14                               64.060337   \n",
              "2008-02-15                               64.575086   \n",
              "2008-02-16                               65.089835   \n",
              "\n",
              "            Savitzky-Golay (30 days, 2 polynomial)  \\\n",
              "DATE                                                 \n",
              "2008-02-12                               52.785288   \n",
              "2008-02-13                               55.419806   \n",
              "2008-02-14                               57.902912   \n",
              "2008-02-15                               60.234606   \n",
              "2008-02-16                               62.414888   \n",
              "\n",
              "            Savitzky-Golay (30 days, 3 polynomial)  \\\n",
              "DATE                                                 \n",
              "2008-02-12                               42.454242   \n",
              "2008-02-13                               49.363676   \n",
              "2008-02-14                               55.358320   \n",
              "2008-02-15                               60.494720   \n",
              "2008-02-16                               64.829424   \n",
              "\n",
              "            Savitzky-Golay (30 days, 4 polynomial)  \n",
              "DATE                                                \n",
              "2008-02-12                               33.469234  \n",
              "2008-02-13                               46.575225  \n",
              "2008-02-14                               56.774676  \n",
              "2008-02-15                               64.468385  \n",
              "2008-02-16                               70.030673  "
            ],
            "text/html": [
              "\n",
              "  <div id=\"df-62a8ed30-6fef-415b-a1ab-54d799e568ed\">\n",
              "    <div class=\"colab-df-container\">\n",
              "      <div>\n",
              "<style scoped>\n",
              "    .dataframe tbody tr th:only-of-type {\n",
              "        vertical-align: middle;\n",
              "    }\n",
              "\n",
              "    .dataframe tbody tr th {\n",
              "        vertical-align: top;\n",
              "    }\n",
              "\n",
              "    .dataframe thead th {\n",
              "        text-align: right;\n",
              "    }\n",
              "</style>\n",
              "<table border=\"1\" class=\"dataframe\">\n",
              "  <thead>\n",
              "    <tr style=\"text-align: right;\">\n",
              "      <th></th>\n",
              "      <th>Savitzky-Golay (30 days, 1 polynomial)</th>\n",
              "      <th>Savitzky-Golay (30 days, 2 polynomial)</th>\n",
              "      <th>Savitzky-Golay (30 days, 3 polynomial)</th>\n",
              "      <th>Savitzky-Golay (30 days, 4 polynomial)</th>\n",
              "    </tr>\n",
              "    <tr>\n",
              "      <th>DATE</th>\n",
              "      <th></th>\n",
              "      <th></th>\n",
              "      <th></th>\n",
              "      <th></th>\n",
              "    </tr>\n",
              "  </thead>\n",
              "  <tbody>\n",
              "    <tr>\n",
              "      <th>2008-02-12</th>\n",
              "      <td>63.030839</td>\n",
              "      <td>52.785288</td>\n",
              "      <td>42.454242</td>\n",
              "      <td>33.469234</td>\n",
              "    </tr>\n",
              "    <tr>\n",
              "      <th>2008-02-13</th>\n",
              "      <td>63.545588</td>\n",
              "      <td>55.419806</td>\n",
              "      <td>49.363676</td>\n",
              "      <td>46.575225</td>\n",
              "    </tr>\n",
              "    <tr>\n",
              "      <th>2008-02-14</th>\n",
              "      <td>64.060337</td>\n",
              "      <td>57.902912</td>\n",
              "      <td>55.358320</td>\n",
              "      <td>56.774676</td>\n",
              "    </tr>\n",
              "    <tr>\n",
              "      <th>2008-02-15</th>\n",
              "      <td>64.575086</td>\n",
              "      <td>60.234606</td>\n",
              "      <td>60.494720</td>\n",
              "      <td>64.468385</td>\n",
              "    </tr>\n",
              "    <tr>\n",
              "      <th>2008-02-16</th>\n",
              "      <td>65.089835</td>\n",
              "      <td>62.414888</td>\n",
              "      <td>64.829424</td>\n",
              "      <td>70.030673</td>\n",
              "    </tr>\n",
              "  </tbody>\n",
              "</table>\n",
              "</div>\n",
              "      <button class=\"colab-df-convert\" onclick=\"convertToInteractive('df-62a8ed30-6fef-415b-a1ab-54d799e568ed')\"\n",
              "              title=\"Convert this dataframe to an interactive table.\"\n",
              "              style=\"display:none;\">\n",
              "        \n",
              "  <svg xmlns=\"http://www.w3.org/2000/svg\" height=\"24px\"viewBox=\"0 0 24 24\"\n",
              "       width=\"24px\">\n",
              "    <path d=\"M0 0h24v24H0V0z\" fill=\"none\"/>\n",
              "    <path d=\"M18.56 5.44l.94 2.06.94-2.06 2.06-.94-2.06-.94-.94-2.06-.94 2.06-2.06.94zm-11 1L8.5 8.5l.94-2.06 2.06-.94-2.06-.94L8.5 2.5l-.94 2.06-2.06.94zm10 10l.94 2.06.94-2.06 2.06-.94-2.06-.94-.94-2.06-.94 2.06-2.06.94z\"/><path d=\"M17.41 7.96l-1.37-1.37c-.4-.4-.92-.59-1.43-.59-.52 0-1.04.2-1.43.59L10.3 9.45l-7.72 7.72c-.78.78-.78 2.05 0 2.83L4 21.41c.39.39.9.59 1.41.59.51 0 1.02-.2 1.41-.59l7.78-7.78 2.81-2.81c.8-.78.8-2.07 0-2.86zM5.41 20L4 18.59l7.72-7.72 1.47 1.35L5.41 20z\"/>\n",
              "  </svg>\n",
              "      </button>\n",
              "      \n",
              "  <style>\n",
              "    .colab-df-container {\n",
              "      display:flex;\n",
              "      flex-wrap:wrap;\n",
              "      gap: 12px;\n",
              "    }\n",
              "\n",
              "    .colab-df-convert {\n",
              "      background-color: #E8F0FE;\n",
              "      border: none;\n",
              "      border-radius: 50%;\n",
              "      cursor: pointer;\n",
              "      display: none;\n",
              "      fill: #1967D2;\n",
              "      height: 32px;\n",
              "      padding: 0 0 0 0;\n",
              "      width: 32px;\n",
              "    }\n",
              "\n",
              "    .colab-df-convert:hover {\n",
              "      background-color: #E2EBFA;\n",
              "      box-shadow: 0px 1px 2px rgba(60, 64, 67, 0.3), 0px 1px 3px 1px rgba(60, 64, 67, 0.15);\n",
              "      fill: #174EA6;\n",
              "    }\n",
              "\n",
              "    [theme=dark] .colab-df-convert {\n",
              "      background-color: #3B4455;\n",
              "      fill: #D2E3FC;\n",
              "    }\n",
              "\n",
              "    [theme=dark] .colab-df-convert:hover {\n",
              "      background-color: #434B5C;\n",
              "      box-shadow: 0px 1px 3px 1px rgba(0, 0, 0, 0.15);\n",
              "      filter: drop-shadow(0px 1px 2px rgba(0, 0, 0, 0.3));\n",
              "      fill: #FFFFFF;\n",
              "    }\n",
              "  </style>\n",
              "\n",
              "      <script>\n",
              "        const buttonEl =\n",
              "          document.querySelector('#df-62a8ed30-6fef-415b-a1ab-54d799e568ed button.colab-df-convert');\n",
              "        buttonEl.style.display =\n",
              "          google.colab.kernel.accessAllowed ? 'block' : 'none';\n",
              "\n",
              "        async function convertToInteractive(key) {\n",
              "          const element = document.querySelector('#df-62a8ed30-6fef-415b-a1ab-54d799e568ed');\n",
              "          const dataTable =\n",
              "            await google.colab.kernel.invokeFunction('convertToInteractive',\n",
              "                                                     [key], {});\n",
              "          if (!dataTable) return;\n",
              "\n",
              "          const docLinkHtml = 'Like what you see? Visit the ' +\n",
              "            '<a target=\"_blank\" href=https://colab.research.google.com/notebooks/data_table.ipynb>data table notebook</a>'\n",
              "            + ' to learn more about interactive tables.';\n",
              "          element.innerHTML = '';\n",
              "          dataTable['output_type'] = 'display_data';\n",
              "          await google.colab.output.renderOutput(dataTable, element);\n",
              "          const docLink = document.createElement('div');\n",
              "          docLink.innerHTML = docLinkHtml;\n",
              "          element.appendChild(docLink);\n",
              "        }\n",
              "      </script>\n",
              "    </div>\n",
              "  </div>\n",
              "  "
            ]
          },
          "metadata": {},
          "execution_count": 100
        }
      ]
    },
    {
      "cell_type": "code",
      "source": [
        "savgol_data1 = savgol_data1.rename(columns={'Savitzky-Golay (30 days, 1 polynomial)': 'AVG_WHT_P_SG'})"
      ],
      "metadata": {
        "id": "_XHUrQ-2p8VO"
      },
      "execution_count": 101,
      "outputs": []
    },
    {
      "cell_type": "markdown",
      "source": [
        "#PREDIKSI AFTER SAVITZKY_GOLAY SMOOTHING"
      ],
      "metadata": {
        "id": "1gh0e2eFtlcG"
      }
    },
    {
      "cell_type": "code",
      "source": [
        "new_df2 = pd.concat([df, savgol_data[['AVG_DP_TUBING_SG']], savgol_data1[['AVG_WHT_P_SG']]], axis=1)"
      ],
      "metadata": {
        "id": "Zkheify6p8ek"
      },
      "execution_count": 102,
      "outputs": []
    },
    {
      "cell_type": "code",
      "source": [
        "new_df2.head()"
      ],
      "metadata": {
        "colab": {
          "base_uri": "https://localhost:8080/",
          "height": 237
        },
        "id": "bkYWfy8GzicT",
        "outputId": "67a9574c-7221-4d2f-d696-5c1c6c572693"
      },
      "execution_count": 103,
      "outputs": [
        {
          "output_type": "execute_result",
          "data": {
            "text/plain": [
              "            AVG_DP_TUBING  AVG_ANNULUS_PRESS  AVG_WHP_P  AVG_WHT_P  \\\n",
              "DATE                                                                 \n",
              "2008-02-12        201.250             18.640    106.806     16.295   \n",
              "2008-02-13        182.145             16.467    120.889     53.374   \n",
              "2008-02-14        181.868             12.660    113.718     72.738   \n",
              "2008-02-15        180.832              5.264    116.831     69.996   \n",
              "2008-02-16        180.501             12.385    115.434     71.518   \n",
              "\n",
              "            BORE_OIL_VOL  AVG_DP_TUBING_SG  AVG_WHT_P_SG  \n",
              "DATE                                                      \n",
              "2008-02-12           285        180.746000     63.030839  \n",
              "2008-02-13          1870        180.733233     63.545588  \n",
              "2008-02-14          3124        180.710200     64.060337  \n",
              "2008-02-15          2608        180.667200     64.575086  \n",
              "2008-02-16          3052        180.615800     65.089835  "
            ],
            "text/html": [
              "\n",
              "  <div id=\"df-f270d9e2-ae41-445a-99a4-176507ffa9fb\">\n",
              "    <div class=\"colab-df-container\">\n",
              "      <div>\n",
              "<style scoped>\n",
              "    .dataframe tbody tr th:only-of-type {\n",
              "        vertical-align: middle;\n",
              "    }\n",
              "\n",
              "    .dataframe tbody tr th {\n",
              "        vertical-align: top;\n",
              "    }\n",
              "\n",
              "    .dataframe thead th {\n",
              "        text-align: right;\n",
              "    }\n",
              "</style>\n",
              "<table border=\"1\" class=\"dataframe\">\n",
              "  <thead>\n",
              "    <tr style=\"text-align: right;\">\n",
              "      <th></th>\n",
              "      <th>AVG_DP_TUBING</th>\n",
              "      <th>AVG_ANNULUS_PRESS</th>\n",
              "      <th>AVG_WHP_P</th>\n",
              "      <th>AVG_WHT_P</th>\n",
              "      <th>BORE_OIL_VOL</th>\n",
              "      <th>AVG_DP_TUBING_SG</th>\n",
              "      <th>AVG_WHT_P_SG</th>\n",
              "    </tr>\n",
              "    <tr>\n",
              "      <th>DATE</th>\n",
              "      <th></th>\n",
              "      <th></th>\n",
              "      <th></th>\n",
              "      <th></th>\n",
              "      <th></th>\n",
              "      <th></th>\n",
              "      <th></th>\n",
              "    </tr>\n",
              "  </thead>\n",
              "  <tbody>\n",
              "    <tr>\n",
              "      <th>2008-02-12</th>\n",
              "      <td>201.250</td>\n",
              "      <td>18.640</td>\n",
              "      <td>106.806</td>\n",
              "      <td>16.295</td>\n",
              "      <td>285</td>\n",
              "      <td>180.746000</td>\n",
              "      <td>63.030839</td>\n",
              "    </tr>\n",
              "    <tr>\n",
              "      <th>2008-02-13</th>\n",
              "      <td>182.145</td>\n",
              "      <td>16.467</td>\n",
              "      <td>120.889</td>\n",
              "      <td>53.374</td>\n",
              "      <td>1870</td>\n",
              "      <td>180.733233</td>\n",
              "      <td>63.545588</td>\n",
              "    </tr>\n",
              "    <tr>\n",
              "      <th>2008-02-14</th>\n",
              "      <td>181.868</td>\n",
              "      <td>12.660</td>\n",
              "      <td>113.718</td>\n",
              "      <td>72.738</td>\n",
              "      <td>3124</td>\n",
              "      <td>180.710200</td>\n",
              "      <td>64.060337</td>\n",
              "    </tr>\n",
              "    <tr>\n",
              "      <th>2008-02-15</th>\n",
              "      <td>180.832</td>\n",
              "      <td>5.264</td>\n",
              "      <td>116.831</td>\n",
              "      <td>69.996</td>\n",
              "      <td>2608</td>\n",
              "      <td>180.667200</td>\n",
              "      <td>64.575086</td>\n",
              "    </tr>\n",
              "    <tr>\n",
              "      <th>2008-02-16</th>\n",
              "      <td>180.501</td>\n",
              "      <td>12.385</td>\n",
              "      <td>115.434</td>\n",
              "      <td>71.518</td>\n",
              "      <td>3052</td>\n",
              "      <td>180.615800</td>\n",
              "      <td>65.089835</td>\n",
              "    </tr>\n",
              "  </tbody>\n",
              "</table>\n",
              "</div>\n",
              "      <button class=\"colab-df-convert\" onclick=\"convertToInteractive('df-f270d9e2-ae41-445a-99a4-176507ffa9fb')\"\n",
              "              title=\"Convert this dataframe to an interactive table.\"\n",
              "              style=\"display:none;\">\n",
              "        \n",
              "  <svg xmlns=\"http://www.w3.org/2000/svg\" height=\"24px\"viewBox=\"0 0 24 24\"\n",
              "       width=\"24px\">\n",
              "    <path d=\"M0 0h24v24H0V0z\" fill=\"none\"/>\n",
              "    <path d=\"M18.56 5.44l.94 2.06.94-2.06 2.06-.94-2.06-.94-.94-2.06-.94 2.06-2.06.94zm-11 1L8.5 8.5l.94-2.06 2.06-.94-2.06-.94L8.5 2.5l-.94 2.06-2.06.94zm10 10l.94 2.06.94-2.06 2.06-.94-2.06-.94-.94-2.06-.94 2.06-2.06.94z\"/><path d=\"M17.41 7.96l-1.37-1.37c-.4-.4-.92-.59-1.43-.59-.52 0-1.04.2-1.43.59L10.3 9.45l-7.72 7.72c-.78.78-.78 2.05 0 2.83L4 21.41c.39.39.9.59 1.41.59.51 0 1.02-.2 1.41-.59l7.78-7.78 2.81-2.81c.8-.78.8-2.07 0-2.86zM5.41 20L4 18.59l7.72-7.72 1.47 1.35L5.41 20z\"/>\n",
              "  </svg>\n",
              "      </button>\n",
              "      \n",
              "  <style>\n",
              "    .colab-df-container {\n",
              "      display:flex;\n",
              "      flex-wrap:wrap;\n",
              "      gap: 12px;\n",
              "    }\n",
              "\n",
              "    .colab-df-convert {\n",
              "      background-color: #E8F0FE;\n",
              "      border: none;\n",
              "      border-radius: 50%;\n",
              "      cursor: pointer;\n",
              "      display: none;\n",
              "      fill: #1967D2;\n",
              "      height: 32px;\n",
              "      padding: 0 0 0 0;\n",
              "      width: 32px;\n",
              "    }\n",
              "\n",
              "    .colab-df-convert:hover {\n",
              "      background-color: #E2EBFA;\n",
              "      box-shadow: 0px 1px 2px rgba(60, 64, 67, 0.3), 0px 1px 3px 1px rgba(60, 64, 67, 0.15);\n",
              "      fill: #174EA6;\n",
              "    }\n",
              "\n",
              "    [theme=dark] .colab-df-convert {\n",
              "      background-color: #3B4455;\n",
              "      fill: #D2E3FC;\n",
              "    }\n",
              "\n",
              "    [theme=dark] .colab-df-convert:hover {\n",
              "      background-color: #434B5C;\n",
              "      box-shadow: 0px 1px 3px 1px rgba(0, 0, 0, 0.15);\n",
              "      filter: drop-shadow(0px 1px 2px rgba(0, 0, 0, 0.3));\n",
              "      fill: #FFFFFF;\n",
              "    }\n",
              "  </style>\n",
              "\n",
              "      <script>\n",
              "        const buttonEl =\n",
              "          document.querySelector('#df-f270d9e2-ae41-445a-99a4-176507ffa9fb button.colab-df-convert');\n",
              "        buttonEl.style.display =\n",
              "          google.colab.kernel.accessAllowed ? 'block' : 'none';\n",
              "\n",
              "        async function convertToInteractive(key) {\n",
              "          const element = document.querySelector('#df-f270d9e2-ae41-445a-99a4-176507ffa9fb');\n",
              "          const dataTable =\n",
              "            await google.colab.kernel.invokeFunction('convertToInteractive',\n",
              "                                                     [key], {});\n",
              "          if (!dataTable) return;\n",
              "\n",
              "          const docLinkHtml = 'Like what you see? Visit the ' +\n",
              "            '<a target=\"_blank\" href=https://colab.research.google.com/notebooks/data_table.ipynb>data table notebook</a>'\n",
              "            + ' to learn more about interactive tables.';\n",
              "          element.innerHTML = '';\n",
              "          dataTable['output_type'] = 'display_data';\n",
              "          await google.colab.output.renderOutput(dataTable, element);\n",
              "          const docLink = document.createElement('div');\n",
              "          docLink.innerHTML = docLinkHtml;\n",
              "          element.appendChild(docLink);\n",
              "        }\n",
              "      </script>\n",
              "    </div>\n",
              "  </div>\n",
              "  "
            ]
          },
          "metadata": {},
          "execution_count": 103
        }
      ]
    },
    {
      "cell_type": "code",
      "source": [
        "new_df2.hist(bins=30, figsize=(13,10))"
      ],
      "metadata": {
        "colab": {
          "base_uri": "https://localhost:8080/",
          "height": 991
        },
        "id": "qkhCcj9a0B1d",
        "outputId": "efcc7667-dac1-4aa1-d934-f1b7c3b5189c"
      },
      "execution_count": 104,
      "outputs": [
        {
          "output_type": "execute_result",
          "data": {
            "text/plain": [
              "array([[<Axes: title={'center': 'AVG_DP_TUBING'}>,\n",
              "        <Axes: title={'center': 'AVG_ANNULUS_PRESS'}>,\n",
              "        <Axes: title={'center': 'AVG_WHP_P'}>],\n",
              "       [<Axes: title={'center': 'AVG_WHT_P'}>,\n",
              "        <Axes: title={'center': 'BORE_OIL_VOL'}>,\n",
              "        <Axes: title={'center': 'AVG_DP_TUBING_SG'}>],\n",
              "       [<Axes: title={'center': 'AVG_WHT_P_SG'}>, <Axes: >, <Axes: >]],\n",
              "      dtype=object)"
            ]
          },
          "metadata": {},
          "execution_count": 104
        },
        {
          "output_type": "display_data",
          "data": {
            "text/plain": [
              "<Figure size 1300x1000 with 9 Axes>"
            ],
            "image/png": "[encoded data removed]"
          },
          "metadata": {}
        }
      ]
    },
    {
      "cell_type": "code",
      "source": [
        "new_df2.drop(columns=['AVG_DP_TUBING', 'AVG_WHT_P'], inplace = True)"
      ],
      "metadata": {
        "id": "evdZjwdmp8iz"
      },
      "execution_count": 105,
      "outputs": []
    },
    {
      "cell_type": "code",
      "source": [
        "new_df2.head()"
      ],
      "metadata": {
        "id": "MOm5EilRp8pW",
        "outputId": "fc5c8b28-d227-4b86-c89f-24b0b8e627ec",
        "colab": {
          "base_uri": "https://localhost:8080/",
          "height": 237
        }
      },
      "execution_count": 106,
      "outputs": [
        {
          "output_type": "execute_result",
          "data": {
            "text/plain": [
              "            AVG_ANNULUS_PRESS  AVG_WHP_P  BORE_OIL_VOL  AVG_DP_TUBING_SG  \\\n",
              "DATE                                                                       \n",
              "2008-02-12             18.640    106.806           285        180.746000   \n",
              "2008-02-13             16.467    120.889          1870        180.733233   \n",
              "2008-02-14             12.660    113.718          3124        180.710200   \n",
              "2008-02-15              5.264    116.831          2608        180.667200   \n",
              "2008-02-16             12.385    115.434          3052        180.615800   \n",
              "\n",
              "            AVG_WHT_P_SG  \n",
              "DATE                      \n",
              "2008-02-12     63.030839  \n",
              "2008-02-13     63.545588  \n",
              "2008-02-14     64.060337  \n",
              "2008-02-15     64.575086  \n",
              "2008-02-16     65.089835  "
            ],
            "text/html": [
              "\n",
              "  <div id=\"df-f17a35f2-3f63-445e-8b8c-73222b6dbd0a\">\n",
              "    <div class=\"colab-df-container\">\n",
              "      <div>\n",
              "<style scoped>\n",
              "    .dataframe tbody tr th:only-of-type {\n",
              "        vertical-align: middle;\n",
              "    }\n",
              "\n",
              "    .dataframe tbody tr th {\n",
              "        vertical-align: top;\n",
              "    }\n",
              "\n",
              "    .dataframe thead th {\n",
              "        text-align: right;\n",
              "    }\n",
              "</style>\n",
              "<table border=\"1\" class=\"dataframe\">\n",
              "  <thead>\n",
              "    <tr style=\"text-align: right;\">\n",
              "      <th></th>\n",
              "      <th>AVG_ANNULUS_PRESS</th>\n",
              "      <th>AVG_WHP_P</th>\n",
              "      <th>BORE_OIL_VOL</th>\n",
              "      <th>AVG_DP_TUBING_SG</th>\n",
              "      <th>AVG_WHT_P_SG</th>\n",
              "    </tr>\n",
              "    <tr>\n",
              "      <th>DATE</th>\n",
              "      <th></th>\n",
              "      <th></th>\n",
              "      <th></th>\n",
              "      <th></th>\n",
              "      <th></th>\n",
              "    </tr>\n",
              "  </thead>\n",
              "  <tbody>\n",
              "    <tr>\n",
              "      <th>2008-02-12</th>\n",
              "      <td>18.640</td>\n",
              "      <td>106.806</td>\n",
              "      <td>285</td>\n",
              "      <td>180.746000</td>\n",
              "      <td>63.030839</td>\n",
              "    </tr>\n",
              "    <tr>\n",
              "      <th>2008-02-13</th>\n",
              "      <td>16.467</td>\n",
              "      <td>120.889</td>\n",
              "      <td>1870</td>\n",
              "      <td>180.733233</td>\n",
              "      <td>63.545588</td>\n",
              "    </tr>\n",
              "    <tr>\n",
              "      <th>2008-02-14</th>\n",
              "      <td>12.660</td>\n",
              "      <td>113.718</td>\n",
              "      <td>3124</td>\n",
              "      <td>180.710200</td>\n",
              "      <td>64.060337</td>\n",
              "    </tr>\n",
              "    <tr>\n",
              "      <th>2008-02-15</th>\n",
              "      <td>5.264</td>\n",
              "      <td>116.831</td>\n",
              "      <td>2608</td>\n",
              "      <td>180.667200</td>\n",
              "      <td>64.575086</td>\n",
              "    </tr>\n",
              "    <tr>\n",
              "      <th>2008-02-16</th>\n",
              "      <td>12.385</td>\n",
              "      <td>115.434</td>\n",
              "      <td>3052</td>\n",
              "      <td>180.615800</td>\n",
              "      <td>65.089835</td>\n",
              "    </tr>\n",
              "  </tbody>\n",
              "</table>\n",
              "</div>\n",
              "      <button class=\"colab-df-convert\" onclick=\"convertToInteractive('df-f17a35f2-3f63-445e-8b8c-73222b6dbd0a')\"\n",
              "              title=\"Convert this dataframe to an interactive table.\"\n",
              "              style=\"display:none;\">\n",
              "        \n",
              "  <svg xmlns=\"http://www.w3.org/2000/svg\" height=\"24px\"viewBox=\"0 0 24 24\"\n",
              "       width=\"24px\">\n",
              "    <path d=\"M0 0h24v24H0V0z\" fill=\"none\"/>\n",
              "    <path d=\"M18.56 5.44l.94 2.06.94-2.06 2.06-.94-2.06-.94-.94-2.06-.94 2.06-2.06.94zm-11 1L8.5 8.5l.94-2.06 2.06-.94-2.06-.94L8.5 2.5l-.94 2.06-2.06.94zm10 10l.94 2.06.94-2.06 2.06-.94-2.06-.94-.94-2.06-.94 2.06-2.06.94z\"/><path d=\"M17.41 7.96l-1.37-1.37c-.4-.4-.92-.59-1.43-.59-.52 0-1.04.2-1.43.59L10.3 9.45l-7.72 7.72c-.78.78-.78 2.05 0 2.83L4 21.41c.39.39.9.59 1.41.59.51 0 1.02-.2 1.41-.59l7.78-7.78 2.81-2.81c.8-.78.8-2.07 0-2.86zM5.41 20L4 18.59l7.72-7.72 1.47 1.35L5.41 20z\"/>\n",
              "  </svg>\n",
              "      </button>\n",
              "      \n",
              "  <style>\n",
              "    .colab-df-container {\n",
              "      display:flex;\n",
              "      flex-wrap:wrap;\n",
              "      gap: 12px;\n",
              "    }\n",
              "\n",
              "    .colab-df-convert {\n",
              "      background-color: #E8F0FE;\n",
              "      border: none;\n",
              "      border-radius: 50%;\n",
              "      cursor: pointer;\n",
              "      display: none;\n",
              "      fill: #1967D2;\n",
              "      height: 32px;\n",
              "      padding: 0 0 0 0;\n",
              "      width: 32px;\n",
              "    }\n",
              "\n",
              "    .colab-df-convert:hover {\n",
              "      background-color: #E2EBFA;\n",
              "      box-shadow: 0px 1px 2px rgba(60, 64, 67, 0.3), 0px 1px 3px 1px rgba(60, 64, 67, 0.15);\n",
              "      fill: #174EA6;\n",
              "    }\n",
              "\n",
              "    [theme=dark] .colab-df-convert {\n",
              "      background-color: #3B4455;\n",
              "      fill: #D2E3FC;\n",
              "    }\n",
              "\n",
              "    [theme=dark] .colab-df-convert:hover {\n",
              "      background-color: #434B5C;\n",
              "      box-shadow: 0px 1px 3px 1px rgba(0, 0, 0, 0.15);\n",
              "      filter: drop-shadow(0px 1px 2px rgba(0, 0, 0, 0.3));\n",
              "      fill: #FFFFFF;\n",
              "    }\n",
              "  </style>\n",
              "\n",
              "      <script>\n",
              "        const buttonEl =\n",
              "          document.querySelector('#df-f17a35f2-3f63-445e-8b8c-73222b6dbd0a button.colab-df-convert');\n",
              "        buttonEl.style.display =\n",
              "          google.colab.kernel.accessAllowed ? 'block' : 'none';\n",
              "\n",
              "        async function convertToInteractive(key) {\n",
              "          const element = document.querySelector('#df-f17a35f2-3f63-445e-8b8c-73222b6dbd0a');\n",
              "          const dataTable =\n",
              "            await google.colab.kernel.invokeFunction('convertToInteractive',\n",
              "                                                     [key], {});\n",
              "          if (!dataTable) return;\n",
              "\n",
              "          const docLinkHtml = 'Like what you see? Visit the ' +\n",
              "            '<a target=\"_blank\" href=https://colab.research.google.com/notebooks/data_table.ipynb>data table notebook</a>'\n",
              "            + ' to learn more about interactive tables.';\n",
              "          element.innerHTML = '';\n",
              "          dataTable['output_type'] = 'display_data';\n",
              "          await google.colab.output.renderOutput(dataTable, element);\n",
              "          const docLink = document.createElement('div');\n",
              "          docLink.innerHTML = docLinkHtml;\n",
              "          element.appendChild(docLink);\n",
              "        }\n",
              "      </script>\n",
              "    </div>\n",
              "  </div>\n",
              "  "
            ]
          },
          "metadata": {},
          "execution_count": 106
        }
      ]
    },
    {
      "cell_type": "code",
      "source": [
        "new_df2.info()"
      ],
      "metadata": {
        "id": "UudO96mxvA-E",
        "outputId": "cecd134d-88db-48af-862e-c07cc33e3899",
        "colab": {
          "base_uri": "https://localhost:8080/"
        }
      },
      "execution_count": 108,
      "outputs": [
        {
          "output_type": "stream",
          "name": "stdout",
          "text": [
            "<class 'pandas.core.frame.DataFrame'>\n",
            "DatetimeIndex: 3056 entries, 2008-02-12 to 2016-09-17\n",
            "Data columns (total 5 columns):\n",
            " #   Column             Non-Null Count  Dtype  \n",
            "---  ------             --------------  -----  \n",
            " 0   AVG_ANNULUS_PRESS  3043 non-null   float64\n",
            " 1   AVG_WHP_P          3056 non-null   float64\n",
            " 2   BORE_OIL_VOL       3056 non-null   int64  \n",
            " 3   AVG_DP_TUBING_SG   3056 non-null   float64\n",
            " 4   AVG_WHT_P_SG       3056 non-null   float64\n",
            "dtypes: float64(4), int64(1)\n",
            "memory usage: 207.8 KB\n"
          ]
        }
      ]
    },
    {
      "cell_type": "code",
      "source": [
        "X1 = new_df2.drop(columns=\"BORE_OIL_VOL\")\n",
        "y1 = new_df2.BORE_OIL_VOL\n",
        "\n",
        "X1_train, X1_test, y1_train, y1_test = train_test_split(X1, y1, test_size=0.3, random_state=42)\n",
        "X1_train.shape, X1_test.shape, y1_train.shape, y1_test.shape"
      ],
      "metadata": {
        "id": "E7EhV4tWp8tr",
        "outputId": "1794d22e-c826-4c2e-ff9c-69bbc6373059",
        "colab": {
          "base_uri": "https://localhost:8080/"
        }
      },
      "execution_count": 110,
      "outputs": [
        {
          "output_type": "execute_result",
          "data": {
            "text/plain": [
              "((2139, 4), (917, 4), (2139,), (917,))"
            ]
          },
          "metadata": {},
          "execution_count": 110
        }
      ]
    },
    {
      "cell_type": "code",
      "source": [
        "y1_train.isnull().sum()"
      ],
      "metadata": {
        "id": "g2ElgEhRuzhY",
        "outputId": "77db9f98-0487-425f-b4d9-d57ff167c096",
        "colab": {
          "base_uri": "https://localhost:8080/"
        }
      },
      "execution_count": 111,
      "outputs": [
        {
          "output_type": "execute_result",
          "data": {
            "text/plain": [
              "0"
            ]
          },
          "metadata": {},
          "execution_count": 111
        }
      ]
    },
    {
      "cell_type": "code",
      "source": [
        "preprocessor = ColumnTransformer([\n",
        "    ('numeric', num_pipe(scaling = 'minmax'), X1.columns )])\n",
        "\n",
        "from sklearn.svm import SVR\n",
        "pipeline = Pipeline([\n",
        "    ('prep', preprocessor),\n",
        "    ('algo', SVR(max_iter=500))\n",
        "])\n",
        "\n",
        "\n",
        "model_SVM2 = RandomizedSearchCV(pipeline, rsp.svm_params, cv=3, n_iter=50, n_jobs=-1, verbose=1, random_state=42)\n",
        "model_SVM2.fit(X1_train, y1_train)\n",
        "\n",
        "print(model_SVM2.best_params_)\n",
        "print(model_SVM2.score(X1_train, y1_train), model_SVM2.best_score_, model_SVM2.score(X1_test, y1_test))"
      ],
      "metadata": {
        "id": "VbH_GR0Fp8yx",
        "outputId": "062ea811-1a9d-46e1-ffd9-bae4807b7ab9",
        "colab": {
          "base_uri": "https://localhost:8080/"
        }
      },
      "execution_count": 115,
      "outputs": [
        {
          "output_type": "stream",
          "name": "stdout",
          "text": [
            "Fitting 3 folds for each of 50 candidates, totalling 150 fits\n",
            "{'algo__C': 656.9128640939186, 'algo__gamma': 44.75040191350916}\n",
            "0.9504506231997656 0.9351608387632427 0.9387129733295385\n"
          ]
        },
        {
          "output_type": "stream",
          "name": "stderr",
          "text": [
            "/usr/local/lib/python3.10/dist-packages/sklearn/svm/_base.py:299: ConvergenceWarning: Solver terminated early (max_iter=500).  Consider pre-processing your data with StandardScaler or MinMaxScaler.\n",
            "  warnings.warn(\n"
          ]
        }
      ]
    },
    {
      "cell_type": "code",
      "source": [
        "from jcopml.plot import plot_actual_vs_prediction, plot_residual\n",
        "plot_actual_vs_prediction(X1_train, y1_train, X1_test, y1_test, model_SVM2)\n",
        "plt.savefig(f'/content/drive/MyDrive/01_Project_Reservoir_Description/Data/SVM_After_SviztkyGolay_NEW.png', dpi=300, bbox_inches='tight')"
      ],
      "metadata": {
        "id": "zbqCP7Eop82o",
        "colab": {
          "base_uri": "https://localhost:8080/",
          "height": 493
        },
        "outputId": "fb09c1b7-fa03-46f0-a9f5-a40ab73e4f25"
      },
      "execution_count": 116,
      "outputs": [
        {
          "output_type": "display_data",
          "data": {
            "text/plain": [
              "<Figure size 1100x500 with 2 Axes>"
            ],
            "image/png": "[encoded data removed]"
          },
          "metadata": {}
        }
      ]
    },
    {
      "cell_type": "markdown",
      "source": [
        "#**ORIGINAL DATASET VISUALIZATION**#"
      ],
      "metadata": {
        "id": "XWLQ6EVX3gN1"
      }
    },
    {
      "cell_type": "markdown",
      "source": [],
      "metadata": {
        "id": "1WI1ByH13qHc"
      }
    },
    {
      "cell_type": "code",
      "source": [
        "import matplotlib.pyplot as plt\n",
        "df.plot(y='AVG_DOWNHOLE_PRESSURE', figsize=(15, 8), linewidth=2.5, color='red')\n",
        "plt.xlabel('DATE')\n",
        "plt.ylabel('AVG_DOWNHOLE_PRESSURE')\n",
        "plt.title('AVG_DOWNHOLE_PRESSURE vs. DATE')\n",
        "plt.savefig('/content/drive/MyDrive/01_Project_Reservoir_Description/Data/SMARTWELL_AVG_DOWNHOLE_PRESSURE.png', dpi = 600)\n",
        "plt.show()"
      ],
      "metadata": {
        "id": "WSdP_evR0xCn"
      },
      "execution_count": null,
      "outputs": []
    },
    {
      "cell_type": "code",
      "source": [
        "import matplotlib.pyplot as plt\n",
        "df.plot(y='AVG_DOWNHOLE_TEMPERATURE', figsize=(15, 8), linewidth=2, color='red')\n",
        "plt.xlabel('DATE')\n",
        "plt.ylabel('AVG_DOWNHOLE_TEMPERATURE')\n",
        "plt.title('AVG_DOWNHOLE_TEMPERATURE vs. DATE')\n",
        "plt.savefig('/content/drive/MyDrive/01_Project_Reservoir_Description/Data/SMARTWELL_AVG_DOWNHOLE_TEMPERATURE.png', dpi = 600)\n",
        "plt.show()"
      ],
      "metadata": {
        "id": "Ku0jFV3H0xTv"
      },
      "execution_count": null,
      "outputs": []
    },
    {
      "cell_type": "code",
      "source": [
        "for column in df.columns:\n",
        "    plt.figure(figsize=(15, 8))\n",
        "    plt.plot(df.index, df[column], linewidth=2.5, color='red')\n",
        "    plt.xlabel('DATE')\n",
        "    plt.ylabel(column)\n",
        "    plt.title(column + ' vs DATE')\n",
        "    plt.savefig('/content/drive/MyDrive/01_Project_Reservoir_Description/Data/' + column + '.png', dpi=300, bbox_inches='tight')\n",
        "    plt.show()"
      ],
      "metadata": {
        "id": "SarjCrBD0xi3"
      },
      "execution_count": null,
      "outputs": []
    },
    {
      "cell_type": "code",
      "source": [
        "for column in df.columns:\n",
        "    plt.figure(figsize=(15, 8))\n",
        "    plt.scatter(df.index, df[column], s=10, color='red')\n",
        "    plt.xlabel('DATE')\n",
        "    plt.ylabel(column)\n",
        "    plt.title(column + ' vs DATE')\n",
        "    plt.savefig('/content/drive/MyDrive/01_Project_Reservoir_Description/Data/' + column + '.png', dpi=300, bbox_inches='tight')\n",
        "    plt.show()"
      ],
      "metadata": {
        "id": "cSfscXkE0x0Q"
      },
      "execution_count": null,
      "outputs": []
    },
    {
      "cell_type": "code",
      "source": [],
      "metadata": {
        "id": "7ax_IfyZY7NS"
      },
      "execution_count": null,
      "outputs": []
    }
  ]
}